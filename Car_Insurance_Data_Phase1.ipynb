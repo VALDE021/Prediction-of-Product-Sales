{
  "nbformat": 4,
  "nbformat_minor": 0,
  "metadata": {
    "colab": {
      "provenance": [],
      "mount_file_id": "1Mafc-vOolDJCQzpBdM6hzMljReGDAdZx",
      "authorship_tag": "ABX9TyN24anEqc9mw7MKJOzSdjhN",
      "include_colab_link": true
    },
    "kernelspec": {
      "name": "python3",
      "display_name": "Python 3"
    },
    "language_info": {
      "name": "python"
    }
  },
  "cells": [
    {
      "cell_type": "markdown",
      "metadata": {
        "id": "view-in-github",
        "colab_type": "text"
      },
      "source": [
        "<a href=\"https://colab.research.google.com/github/VALDE021/Prediction-of-Product-Sales/blob/main/Car_Insurance_Data_Phase1.ipynb\" target=\"_parent\"><img src=\"https://colab.research.google.com/assets/colab-badge.svg\" alt=\"Open In Colab\"/></a>"
      ]
    },
    {
      "cell_type": "markdown",
      "source": [
        "# <center><u>**Car Insurance Data Core Phase 1**</u>\n",
        "\n",
        "**Authored by:** Eric N. Valdez\n",
        "\n",
        "**Date:** October 1st, 2023"
      ],
      "metadata": {
        "id": "YAQ8KNx_zaNl"
      }
    },
    {
      "cell_type": "markdown",
      "source": [
        "# <u>Assignment:\n",
        "\n",
        "# Dataset:\n",
        "* ## [Car Insurance Data](https://www.kaggle.com/datasets/sagnik1511/car-insurance-data)"
      ],
      "metadata": {
        "id": "Vbn4WC1S0CkG"
      }
    },
    {
      "cell_type": "markdown",
      "source": [
        "## `When choosing your dataset, consider the following:`\n",
        "\n",
        "\n",
        "* What is the target? (You are required to complete a classification task for this project.)\n",
        "* What does one row represent? (A person? A business? An event? A product?)\n",
        "* How many features does the data have?\n",
        "* How many rows are in the dataset?\n",
        "* What, if any, challenges do you foresee in cleaning, exploring, or modeling this dataset?"
      ],
      "metadata": {
        "id": "u9F27fsn1TRA"
      }
    },
    {
      "cell_type": "markdown",
      "source": [
        "## **Clean and EDA**\n",
        "* ~~Choose a dataset from the provided list~~\n",
        "* Explore/clean the data\n",
        "* Exploratory Visualizations\n",
        "  * Creating exploratory visualizations to understand your data and search for trends.\n",
        "* Create Explanatory Visualizations\n",
        "  * Select two features from your EDA and produce explanatory visualizations showing the relationship between the feature and the target.\n",
        "  * The purpose is to demonstrate key trends you found that will interest a stakeholder.\n",
        "    * These visuals should be reporting-quality with titles, labels, and a short explanation of the trend.\n",
        "    * Be sure to explain the insight associated with each visual in a text cell.\n",
        "    * Both visualizations should be easily understood by a non-technical audience (Neither of these should be histograms, boxplots, or correlation plots)."
      ],
      "metadata": {
        "id": "lNziDS0j1y_a"
      }
    },
    {
      "cell_type": "markdown",
      "source": [
        "**Start the README file**\n",
        "\n",
        "* Create a README.md file in your GitHub repository. This README should include:\n",
        "  * Your business problem and stakeholders\n",
        "  * The source of your data\n",
        "  * A description of your data\n",
        "  * The 2 analytical insights from your data analysis.\n",
        "    * Use the 2 explanatory visualizations you created above\n",
        "    * Include a brief written explanation of each visual"
      ],
      "metadata": {
        "id": "0CjTZQSz2hux"
      }
    },
    {
      "cell_type": "markdown",
      "source": [
        "# **Imports:**"
      ],
      "metadata": {
        "id": "Lk05nr383rXe"
      }
    },
    {
      "cell_type": "code",
      "execution_count": 1,
      "metadata": {
        "id": "ttQ2KqQNXPwB"
      },
      "outputs": [],
      "source": [
        "# Our standard imports\n",
        "import pandas as pd\n",
        "import numpy as np\n",
        "import matplotlib.pyplot as plt\n",
        "import seaborn as sns\n",
        "\n",
        "#mode\n",
        "from statistics import mode\n",
        "\n",
        "# Missingno\n",
        "import missingno as msno\n",
        "\n",
        "# New Libraries\n",
        "import scipy.cluster.hierarchy as sch\n",
        "import sklearn.cluster as cluster\n",
        "\n",
        "# Preprocessing tools\n",
        "from sklearn.model_selection import train_test_split\n",
        "from sklearn.compose import ColumnTransformer, make_column_selector\n",
        "from sklearn.pipeline import make_pipeline\n",
        "from sklearn.preprocessing import OneHotEncoder, StandardScaler\n",
        "from sklearn.impute import SimpleImputer\n",
        "from sklearn.cluster import DBSCAN, AgglomerativeClustering\n",
        "from sklearn.neighbors import NearestNeighbors\n",
        "from mpl_toolkits import mplot3d\n",
        "\n",
        "# Models & evaluation metrics\n",
        "from sklearn import metrics\n",
        "from sklearn.linear_model import LinearRegression\n",
        "from sklearn.tree import DecisionTreeRegressor\n",
        "from sklearn.ensemble import RandomForestRegressor\n",
        "from sklearn.cluster import KMeans\n",
        "from sklearn.metrics import silhouette_score\n",
        "\n",
        "from sklearn import set_config\n",
        "set_config(transform_output='pandas')\n",
        "\n",
        "import joblib\n",
        "\n",
        "# setting random state for reproducibility\n",
        "SEED = 321\n",
        "np.random.seed(SEED)\n",
        "## Matplotlib style\n",
        "fav_style = ('ggplot','tableau-colorblind10')\n",
        "fav_context  ={'context':'notebook', 'font_scale':1.1}\n",
        "plt.style.use(fav_style)\n",
        "sns.set_context(**fav_context)\n",
        "plt.rcParams['savefig.transparent'] = False\n",
        "plt.rcParams['savefig.bbox'] = 'tight'\n",
        "\n",
        "\n",
        "# Warnings\n",
        "import warnings"
      ]
    },
    {
      "cell_type": "code",
      "metadata": {
        "id": "pBoKFWqKgNIy"
      },
      "source": [
        "# Pandas\n",
        "import pandas as pd\n",
        "# Seaborn\n",
        "import seaborn as sns\n",
        "# Numpy\n",
        "import numpy as np\n",
        "# MatplotLib\n",
        "import matplotlib.pyplot as plt\n",
        "# Warnings\n",
        "import warnings\n",
        "\n",
        "# Preprocessing\n",
        "from sklearn.model_selection import train_test_split, GridSearchCV\n",
        "from sklearn.preprocessing import StandardScaler, OneHotEncoder, OrdinalEncoder\n",
        "from sklearn.pipeline import make_pipeline\n",
        "from sklearn.compose import ColumnTransformer, make_column_selector\n",
        "from sklearn.impute import SimpleImputer\n",
        "from sklearn.metrics import precision_score, recall_score, \\\n",
        "ConfusionMatrixDisplay, accuracy_score, classification_report\n",
        "from sklearn.linear_model import LinearRegression\n",
        "from sklearn.linear_model import LogisticRegression\n",
        "from sklearn.metrics import r2_score, mean_squared_error, mean_absolute_error\n",
        "from sklearn import set_config\n",
        "set_config(transform_output='pandas')\n",
        "\n",
        "# Models\n",
        "from sklearn.neighbors import KNeighborsClassifier\n",
        "from sklearn.tree import DecisionTreeClassifier\n",
        "from sklearn.ensemble import BaggingClassifier\n",
        "from sklearn.ensemble import RandomForestClassifier\n",
        "from sklearn.metrics import accuracy_score\n",
        "from sklearn.impute import KNNImputer\n",
        "\n",
        "# Classification Metrics\n",
        "from sklearn.metrics import accuracy_score, recall_score, precision_score, \\\n",
        "f1_score, classification_report, confusion_matrix, ConfusionMatrixDisplay\n",
        "\n",
        "\n",
        "# Set global scikit-learn configuration\n",
        "from sklearn import set_config\n",
        "\n",
        "# Display estimators as a diagram\n",
        "set_config(display='diagram') # 'text' or 'diagram'}"
      ],
      "execution_count": 2,
      "outputs": []
    },
    {
      "cell_type": "markdown",
      "source": [
        "#### **Warnings**"
      ],
      "metadata": {
        "id": "ox-z9t1ZRz5x"
      }
    },
    {
      "cell_type": "code",
      "source": [
        "# Set filter warnings to ignore\n",
        "warnings.filterwarnings('ignore')"
      ],
      "metadata": {
        "id": "U2L2QiISSD7H"
      },
      "execution_count": 3,
      "outputs": []
    },
    {
      "cell_type": "markdown",
      "metadata": {
        "id": "QizaB7ts4B4J"
      },
      "source": [
        "#### **Pandas Display Configurations**"
      ]
    },
    {
      "cell_type": "code",
      "execution_count": 4,
      "metadata": {
        "id": "zjWuLki8Mthy"
      },
      "outputs": [],
      "source": [
        "## Display all columns\n",
        "pd.set_option('display.max_column', None)\n",
        "\n",
        "## Display all rows\n",
        "pd.set_option('display.max_rows', None)"
      ]
    },
    {
      "cell_type": "markdown",
      "metadata": {
        "id": "PUDDsENRN-U-"
      },
      "source": [
        "#### **SK Learn Display Configuration**"
      ]
    },
    {
      "cell_type": "code",
      "execution_count": 5,
      "metadata": {
        "id": "K4C3gn6nOIk5"
      },
      "outputs": [],
      "source": [
        "## SK Learn Display\n",
        "set_config(display='diagram')\n",
        "\n",
        "## Transformers output as a Pandas Dataframe\n",
        "set_config(transform_output='pandas')"
      ]
    },
    {
      "cell_type": "markdown",
      "source": [
        "# <u>Custom Functions:"
      ],
      "metadata": {
        "id": "SpQ5itsZGhsL"
      }
    },
    {
      "cell_type": "code",
      "source": [
        "def classification_metrics(y_true, y_pred, label='',\n",
        "                           output_dict=False, figsize=(8,4),\n",
        "                           normalize='true', cmap='Blues',\n",
        "                           colorbar=False):\n",
        "  # Get the classification report\n",
        "  report = classification_report(y_true, y_pred)\n",
        "  ## Print header and report\n",
        "  header = \"-\"*70\n",
        "  print(header, f\" Classification Metrics: {label}\", header, sep='\\n')\n",
        "  print(report)\n",
        "  ## CONFUSION MATRICES SUBPLOTS\n",
        "  fig, axes = plt.subplots(ncols=2, figsize=figsize)\n",
        "  # create a confusion matrix  of raw counts\n",
        "  ConfusionMatrixDisplay.from_predictions(y_true, y_pred,\n",
        "                normalize=None, cmap='gist_gray', colorbar=colorbar,\n",
        "                ax = axes[0],);\n",
        "  axes[0].set_title(\"Raw Counts\")\n",
        "  # create a confusion matrix with the test data\n",
        "  ConfusionMatrixDisplay.from_predictions(y_true, y_pred,\n",
        "                normalize=normalize, cmap=cmap, colorbar=colorbar,\n",
        "                ax = axes[1]);\n",
        "  axes[1].set_title(\"Normalized Confusion Matrix\")\n",
        "  # Adjust layout and show figure\n",
        "  fig.tight_layout()\n",
        "  plt.show()\n",
        "  # Return dictionary of classification_report\n",
        "  if output_dict==True:\n",
        "    report_dict = classification_report(y_true, y_pred, output_dict=True)\n",
        "    return report_dict"
      ],
      "metadata": {
        "id": "sg6cDh21H5BE"
      },
      "execution_count": 6,
      "outputs": []
    },
    {
      "cell_type": "code",
      "source": [
        "def classification_metrics(y_true, y_pred, label='',\n",
        "                           output_dict=False, figsize=(8,4),\n",
        "                           normalize='true', cmap='Blues',\n",
        "                           colorbar=False):\n",
        "  # Get the classification report\n",
        "  report = classification_report(y_true, y_pred)\n",
        "  ## Print header and report\n",
        "  header = \"-\"*70\n",
        "  print(header, f\" Classification Metrics: {label}\", header, sep='\\n')\n",
        "  print(report)\n",
        "  ## CONFUSION MATRICES SUBPLOTS\n",
        "  fig, axes = plt.subplots(ncols=2, figsize=figsize)\n",
        "  # create a confusion matrix  of raw counts\n",
        "  ConfusionMatrixDisplay.from_predictions(y_true, y_pred,\n",
        "                normalize=None, cmap='gist_gray', colorbar=colorbar,\n",
        "                ax = axes[0],);\n",
        "  axes[0].set_title(\"Raw Counts\")\n",
        "  # create a confusion matrix with the test data\n",
        "  ConfusionMatrixDisplay.from_predictions(y_true, y_pred,\n",
        "                normalize=normalize, cmap=cmap, colorbar=colorbar,\n",
        "                ax = axes[1]);\n",
        "  axes[1].set_title(\"Normalized Confusion Matrix\")\n",
        "  # Adjust layout and show figure\n",
        "  fig.tight_layout()\n",
        "  plt.show()\n",
        "  # Return dictionary of classification_report\n",
        "  if output_dict==True:\n",
        "    report_dict = classification_report(y_true, y_pred, output_dict=True)\n",
        "    return report_dict"
      ],
      "metadata": {
        "id": "X0lsohE5jtd5"
      },
      "execution_count": 7,
      "outputs": []
    },
    {
      "cell_type": "markdown",
      "source": [
        "# **Load and Inspect Data:**\n"
      ],
      "metadata": {
        "id": "eULxsyNI3Xbm"
      }
    },
    {
      "cell_type": "markdown",
      "metadata": {
        "id": "chE67Xz-9MZp"
      },
      "source": [
        "### **Load the Data**"
      ]
    },
    {
      "cell_type": "code",
      "source": [
        "#Defining the data source\n",
        "data = '/content/drive/MyDrive/#Data Science -C.D./CodingDojo/03-AdvanceML/Week09/Data/Car_Insurance_Claim.csv'\n",
        "# Reading in the Data frame with Pandas\n",
        "df = pd.read_csv(data)"
      ],
      "metadata": {
        "id": "ZRSBXtZI7YCP"
      },
      "execution_count": 8,
      "outputs": []
    },
    {
      "cell_type": "markdown",
      "metadata": {
        "id": "MgN_DwQ6QBcN"
      },
      "source": [
        "### **Inspect the Data**"
      ]
    },
    {
      "cell_type": "markdown",
      "source": [
        ">## <u>.head()"
      ],
      "metadata": {
        "id": "wTw5_zwd6DoG"
      }
    },
    {
      "cell_type": "code",
      "source": [
        "# Displaying the first (5) rows of the dataframe\n",
        "df.head(5)"
      ],
      "metadata": {
        "colab": {
          "base_uri": "https://localhost:8080/",
          "height": 313
        },
        "id": "o1Vjt1dZ7Ynh",
        "outputId": "b33e5aa4-2dfc-488d-980e-a13163b6ff32"
      },
      "execution_count": 9,
      "outputs": [
        {
          "output_type": "execute_result",
          "data": {
            "text/plain": [
              "       ID    AGE  GENDER      RACE DRIVING_EXPERIENCE    EDUCATION  \\\n",
              "0  569520    65+  female  majority               0-9y  high school   \n",
              "1  750365  16-25    male  majority               0-9y         none   \n",
              "2  199901  16-25  female  majority               0-9y  high school   \n",
              "3  478866  16-25    male  majority               0-9y   university   \n",
              "4  731664  26-39    male  majority             10-19y         none   \n",
              "\n",
              "          INCOME  CREDIT_SCORE  VEHICLE_OWNERSHIP VEHICLE_YEAR  MARRIED  \\\n",
              "0    upper class      0.629027                1.0   after 2015      0.0   \n",
              "1        poverty      0.357757                0.0  before 2015      0.0   \n",
              "2  working class      0.493146                1.0  before 2015      0.0   \n",
              "3  working class      0.206013                1.0  before 2015      0.0   \n",
              "4  working class      0.388366                1.0  before 2015      0.0   \n",
              "\n",
              "   CHILDREN  POSTAL_CODE  ANNUAL_MILEAGE VEHICLE_TYPE  SPEEDING_VIOLATIONS  \\\n",
              "0       1.0        10238         12000.0        sedan                    0   \n",
              "1       0.0        10238         16000.0        sedan                    0   \n",
              "2       0.0        10238         11000.0        sedan                    0   \n",
              "3       1.0        32765         11000.0        sedan                    0   \n",
              "4       0.0        32765         12000.0        sedan                    2   \n",
              "\n",
              "   DUIS  PAST_ACCIDENTS  OUTCOME  \n",
              "0     0               0      0.0  \n",
              "1     0               0      1.0  \n",
              "2     0               0      0.0  \n",
              "3     0               0      0.0  \n",
              "4     0               1      1.0  "
            ],
            "text/html": [
              "\n",
              "  <div id=\"df-4af238c2-7ac0-4a0f-af84-7ce5f11e0b56\" class=\"colab-df-container\">\n",
              "    <div>\n",
              "<style scoped>\n",
              "    .dataframe tbody tr th:only-of-type {\n",
              "        vertical-align: middle;\n",
              "    }\n",
              "\n",
              "    .dataframe tbody tr th {\n",
              "        vertical-align: top;\n",
              "    }\n",
              "\n",
              "    .dataframe thead th {\n",
              "        text-align: right;\n",
              "    }\n",
              "</style>\n",
              "<table border=\"1\" class=\"dataframe\">\n",
              "  <thead>\n",
              "    <tr style=\"text-align: right;\">\n",
              "      <th></th>\n",
              "      <th>ID</th>\n",
              "      <th>AGE</th>\n",
              "      <th>GENDER</th>\n",
              "      <th>RACE</th>\n",
              "      <th>DRIVING_EXPERIENCE</th>\n",
              "      <th>EDUCATION</th>\n",
              "      <th>INCOME</th>\n",
              "      <th>CREDIT_SCORE</th>\n",
              "      <th>VEHICLE_OWNERSHIP</th>\n",
              "      <th>VEHICLE_YEAR</th>\n",
              "      <th>MARRIED</th>\n",
              "      <th>CHILDREN</th>\n",
              "      <th>POSTAL_CODE</th>\n",
              "      <th>ANNUAL_MILEAGE</th>\n",
              "      <th>VEHICLE_TYPE</th>\n",
              "      <th>SPEEDING_VIOLATIONS</th>\n",
              "      <th>DUIS</th>\n",
              "      <th>PAST_ACCIDENTS</th>\n",
              "      <th>OUTCOME</th>\n",
              "    </tr>\n",
              "  </thead>\n",
              "  <tbody>\n",
              "    <tr>\n",
              "      <th>0</th>\n",
              "      <td>569520</td>\n",
              "      <td>65+</td>\n",
              "      <td>female</td>\n",
              "      <td>majority</td>\n",
              "      <td>0-9y</td>\n",
              "      <td>high school</td>\n",
              "      <td>upper class</td>\n",
              "      <td>0.629027</td>\n",
              "      <td>1.0</td>\n",
              "      <td>after 2015</td>\n",
              "      <td>0.0</td>\n",
              "      <td>1.0</td>\n",
              "      <td>10238</td>\n",
              "      <td>12000.0</td>\n",
              "      <td>sedan</td>\n",
              "      <td>0</td>\n",
              "      <td>0</td>\n",
              "      <td>0</td>\n",
              "      <td>0.0</td>\n",
              "    </tr>\n",
              "    <tr>\n",
              "      <th>1</th>\n",
              "      <td>750365</td>\n",
              "      <td>16-25</td>\n",
              "      <td>male</td>\n",
              "      <td>majority</td>\n",
              "      <td>0-9y</td>\n",
              "      <td>none</td>\n",
              "      <td>poverty</td>\n",
              "      <td>0.357757</td>\n",
              "      <td>0.0</td>\n",
              "      <td>before 2015</td>\n",
              "      <td>0.0</td>\n",
              "      <td>0.0</td>\n",
              "      <td>10238</td>\n",
              "      <td>16000.0</td>\n",
              "      <td>sedan</td>\n",
              "      <td>0</td>\n",
              "      <td>0</td>\n",
              "      <td>0</td>\n",
              "      <td>1.0</td>\n",
              "    </tr>\n",
              "    <tr>\n",
              "      <th>2</th>\n",
              "      <td>199901</td>\n",
              "      <td>16-25</td>\n",
              "      <td>female</td>\n",
              "      <td>majority</td>\n",
              "      <td>0-9y</td>\n",
              "      <td>high school</td>\n",
              "      <td>working class</td>\n",
              "      <td>0.493146</td>\n",
              "      <td>1.0</td>\n",
              "      <td>before 2015</td>\n",
              "      <td>0.0</td>\n",
              "      <td>0.0</td>\n",
              "      <td>10238</td>\n",
              "      <td>11000.0</td>\n",
              "      <td>sedan</td>\n",
              "      <td>0</td>\n",
              "      <td>0</td>\n",
              "      <td>0</td>\n",
              "      <td>0.0</td>\n",
              "    </tr>\n",
              "    <tr>\n",
              "      <th>3</th>\n",
              "      <td>478866</td>\n",
              "      <td>16-25</td>\n",
              "      <td>male</td>\n",
              "      <td>majority</td>\n",
              "      <td>0-9y</td>\n",
              "      <td>university</td>\n",
              "      <td>working class</td>\n",
              "      <td>0.206013</td>\n",
              "      <td>1.0</td>\n",
              "      <td>before 2015</td>\n",
              "      <td>0.0</td>\n",
              "      <td>1.0</td>\n",
              "      <td>32765</td>\n",
              "      <td>11000.0</td>\n",
              "      <td>sedan</td>\n",
              "      <td>0</td>\n",
              "      <td>0</td>\n",
              "      <td>0</td>\n",
              "      <td>0.0</td>\n",
              "    </tr>\n",
              "    <tr>\n",
              "      <th>4</th>\n",
              "      <td>731664</td>\n",
              "      <td>26-39</td>\n",
              "      <td>male</td>\n",
              "      <td>majority</td>\n",
              "      <td>10-19y</td>\n",
              "      <td>none</td>\n",
              "      <td>working class</td>\n",
              "      <td>0.388366</td>\n",
              "      <td>1.0</td>\n",
              "      <td>before 2015</td>\n",
              "      <td>0.0</td>\n",
              "      <td>0.0</td>\n",
              "      <td>32765</td>\n",
              "      <td>12000.0</td>\n",
              "      <td>sedan</td>\n",
              "      <td>2</td>\n",
              "      <td>0</td>\n",
              "      <td>1</td>\n",
              "      <td>1.0</td>\n",
              "    </tr>\n",
              "  </tbody>\n",
              "</table>\n",
              "</div>\n",
              "    <div class=\"colab-df-buttons\">\n",
              "\n",
              "  <div class=\"colab-df-container\">\n",
              "    <button class=\"colab-df-convert\" onclick=\"convertToInteractive('df-4af238c2-7ac0-4a0f-af84-7ce5f11e0b56')\"\n",
              "            title=\"Convert this dataframe to an interactive table.\"\n",
              "            style=\"display:none;\">\n",
              "\n",
              "  <svg xmlns=\"http://www.w3.org/2000/svg\" height=\"24px\" viewBox=\"0 -960 960 960\">\n",
              "    <path d=\"M120-120v-720h720v720H120Zm60-500h600v-160H180v160Zm220 220h160v-160H400v160Zm0 220h160v-160H400v160ZM180-400h160v-160H180v160Zm440 0h160v-160H620v160ZM180-180h160v-160H180v160Zm440 0h160v-160H620v160Z\"/>\n",
              "  </svg>\n",
              "    </button>\n",
              "\n",
              "  <style>\n",
              "    .colab-df-container {\n",
              "      display:flex;\n",
              "      gap: 12px;\n",
              "    }\n",
              "\n",
              "    .colab-df-convert {\n",
              "      background-color: #E8F0FE;\n",
              "      border: none;\n",
              "      border-radius: 50%;\n",
              "      cursor: pointer;\n",
              "      display: none;\n",
              "      fill: #1967D2;\n",
              "      height: 32px;\n",
              "      padding: 0 0 0 0;\n",
              "      width: 32px;\n",
              "    }\n",
              "\n",
              "    .colab-df-convert:hover {\n",
              "      background-color: #E2EBFA;\n",
              "      box-shadow: 0px 1px 2px rgba(60, 64, 67, 0.3), 0px 1px 3px 1px rgba(60, 64, 67, 0.15);\n",
              "      fill: #174EA6;\n",
              "    }\n",
              "\n",
              "    .colab-df-buttons div {\n",
              "      margin-bottom: 4px;\n",
              "    }\n",
              "\n",
              "    [theme=dark] .colab-df-convert {\n",
              "      background-color: #3B4455;\n",
              "      fill: #D2E3FC;\n",
              "    }\n",
              "\n",
              "    [theme=dark] .colab-df-convert:hover {\n",
              "      background-color: #434B5C;\n",
              "      box-shadow: 0px 1px 3px 1px rgba(0, 0, 0, 0.15);\n",
              "      filter: drop-shadow(0px 1px 2px rgba(0, 0, 0, 0.3));\n",
              "      fill: #FFFFFF;\n",
              "    }\n",
              "  </style>\n",
              "\n",
              "    <script>\n",
              "      const buttonEl =\n",
              "        document.querySelector('#df-4af238c2-7ac0-4a0f-af84-7ce5f11e0b56 button.colab-df-convert');\n",
              "      buttonEl.style.display =\n",
              "        google.colab.kernel.accessAllowed ? 'block' : 'none';\n",
              "\n",
              "      async function convertToInteractive(key) {\n",
              "        const element = document.querySelector('#df-4af238c2-7ac0-4a0f-af84-7ce5f11e0b56');\n",
              "        const dataTable =\n",
              "          await google.colab.kernel.invokeFunction('convertToInteractive',\n",
              "                                                    [key], {});\n",
              "        if (!dataTable) return;\n",
              "\n",
              "        const docLinkHtml = 'Like what you see? Visit the ' +\n",
              "          '<a target=\"_blank\" href=https://colab.research.google.com/notebooks/data_table.ipynb>data table notebook</a>'\n",
              "          + ' to learn more about interactive tables.';\n",
              "        element.innerHTML = '';\n",
              "        dataTable['output_type'] = 'display_data';\n",
              "        await google.colab.output.renderOutput(dataTable, element);\n",
              "        const docLink = document.createElement('div');\n",
              "        docLink.innerHTML = docLinkHtml;\n",
              "        element.appendChild(docLink);\n",
              "      }\n",
              "    </script>\n",
              "  </div>\n",
              "\n",
              "\n",
              "<div id=\"df-b922eb71-3665-4308-b8cb-298569ac1b19\">\n",
              "  <button class=\"colab-df-quickchart\" onclick=\"quickchart('df-b922eb71-3665-4308-b8cb-298569ac1b19')\"\n",
              "            title=\"Suggest charts.\"\n",
              "            style=\"display:none;\">\n",
              "\n",
              "<svg xmlns=\"http://www.w3.org/2000/svg\" height=\"24px\"viewBox=\"0 0 24 24\"\n",
              "     width=\"24px\">\n",
              "    <g>\n",
              "        <path d=\"M19 3H5c-1.1 0-2 .9-2 2v14c0 1.1.9 2 2 2h14c1.1 0 2-.9 2-2V5c0-1.1-.9-2-2-2zM9 17H7v-7h2v7zm4 0h-2V7h2v10zm4 0h-2v-4h2v4z\"/>\n",
              "    </g>\n",
              "</svg>\n",
              "  </button>\n",
              "\n",
              "<style>\n",
              "  .colab-df-quickchart {\n",
              "      --bg-color: #E8F0FE;\n",
              "      --fill-color: #1967D2;\n",
              "      --hover-bg-color: #E2EBFA;\n",
              "      --hover-fill-color: #174EA6;\n",
              "      --disabled-fill-color: #AAA;\n",
              "      --disabled-bg-color: #DDD;\n",
              "  }\n",
              "\n",
              "  [theme=dark] .colab-df-quickchart {\n",
              "      --bg-color: #3B4455;\n",
              "      --fill-color: #D2E3FC;\n",
              "      --hover-bg-color: #434B5C;\n",
              "      --hover-fill-color: #FFFFFF;\n",
              "      --disabled-bg-color: #3B4455;\n",
              "      --disabled-fill-color: #666;\n",
              "  }\n",
              "\n",
              "  .colab-df-quickchart {\n",
              "    background-color: var(--bg-color);\n",
              "    border: none;\n",
              "    border-radius: 50%;\n",
              "    cursor: pointer;\n",
              "    display: none;\n",
              "    fill: var(--fill-color);\n",
              "    height: 32px;\n",
              "    padding: 0;\n",
              "    width: 32px;\n",
              "  }\n",
              "\n",
              "  .colab-df-quickchart:hover {\n",
              "    background-color: var(--hover-bg-color);\n",
              "    box-shadow: 0 1px 2px rgba(60, 64, 67, 0.3), 0 1px 3px 1px rgba(60, 64, 67, 0.15);\n",
              "    fill: var(--button-hover-fill-color);\n",
              "  }\n",
              "\n",
              "  .colab-df-quickchart-complete:disabled,\n",
              "  .colab-df-quickchart-complete:disabled:hover {\n",
              "    background-color: var(--disabled-bg-color);\n",
              "    fill: var(--disabled-fill-color);\n",
              "    box-shadow: none;\n",
              "  }\n",
              "\n",
              "  .colab-df-spinner {\n",
              "    border: 2px solid var(--fill-color);\n",
              "    border-color: transparent;\n",
              "    border-bottom-color: var(--fill-color);\n",
              "    animation:\n",
              "      spin 1s steps(1) infinite;\n",
              "  }\n",
              "\n",
              "  @keyframes spin {\n",
              "    0% {\n",
              "      border-color: transparent;\n",
              "      border-bottom-color: var(--fill-color);\n",
              "      border-left-color: var(--fill-color);\n",
              "    }\n",
              "    20% {\n",
              "      border-color: transparent;\n",
              "      border-left-color: var(--fill-color);\n",
              "      border-top-color: var(--fill-color);\n",
              "    }\n",
              "    30% {\n",
              "      border-color: transparent;\n",
              "      border-left-color: var(--fill-color);\n",
              "      border-top-color: var(--fill-color);\n",
              "      border-right-color: var(--fill-color);\n",
              "    }\n",
              "    40% {\n",
              "      border-color: transparent;\n",
              "      border-right-color: var(--fill-color);\n",
              "      border-top-color: var(--fill-color);\n",
              "    }\n",
              "    60% {\n",
              "      border-color: transparent;\n",
              "      border-right-color: var(--fill-color);\n",
              "    }\n",
              "    80% {\n",
              "      border-color: transparent;\n",
              "      border-right-color: var(--fill-color);\n",
              "      border-bottom-color: var(--fill-color);\n",
              "    }\n",
              "    90% {\n",
              "      border-color: transparent;\n",
              "      border-bottom-color: var(--fill-color);\n",
              "    }\n",
              "  }\n",
              "</style>\n",
              "\n",
              "  <script>\n",
              "    async function quickchart(key) {\n",
              "      const quickchartButtonEl =\n",
              "        document.querySelector('#' + key + ' button');\n",
              "      quickchartButtonEl.disabled = true;  // To prevent multiple clicks.\n",
              "      quickchartButtonEl.classList.add('colab-df-spinner');\n",
              "      try {\n",
              "        const charts = await google.colab.kernel.invokeFunction(\n",
              "            'suggestCharts', [key], {});\n",
              "      } catch (error) {\n",
              "        console.error('Error during call to suggestCharts:', error);\n",
              "      }\n",
              "      quickchartButtonEl.classList.remove('colab-df-spinner');\n",
              "      quickchartButtonEl.classList.add('colab-df-quickchart-complete');\n",
              "    }\n",
              "    (() => {\n",
              "      let quickchartButtonEl =\n",
              "        document.querySelector('#df-b922eb71-3665-4308-b8cb-298569ac1b19 button');\n",
              "      quickchartButtonEl.style.display =\n",
              "        google.colab.kernel.accessAllowed ? 'block' : 'none';\n",
              "    })();\n",
              "  </script>\n",
              "</div>\n",
              "    </div>\n",
              "  </div>\n"
            ]
          },
          "metadata": {},
          "execution_count": 9
        }
      ]
    },
    {
      "cell_type": "markdown",
      "source": [
        ">## <u>.shape"
      ],
      "metadata": {
        "id": "ZfB_9kt97LLW"
      }
    },
    {
      "cell_type": "code",
      "source": [
        "# Displaying the number of rows and columns for the dataframe\n",
        "df.shape"
      ],
      "metadata": {
        "colab": {
          "base_uri": "https://localhost:8080/"
        },
        "id": "wVVDI1CyHH7n",
        "outputId": "6d2593bc-029c-44b7-ecea-80579ca93d56"
      },
      "execution_count": 10,
      "outputs": [
        {
          "output_type": "execute_result",
          "data": {
            "text/plain": [
              "(10000, 19)"
            ]
          },
          "metadata": {},
          "execution_count": 10
        }
      ]
    },
    {
      "cell_type": "markdown",
      "source": [
        ">## <u>.dtypes"
      ],
      "metadata": {
        "id": "lY2s1WzI63lT"
      }
    },
    {
      "cell_type": "code",
      "source": [
        "# Displaying the column names and datatypes for each column\n",
        "df.dtypes"
      ],
      "metadata": {
        "colab": {
          "base_uri": "https://localhost:8080/"
        },
        "id": "AL365XEH7ZNG",
        "outputId": "93c71df9-fbc4-4a30-9cdb-ca9915b6cbc2"
      },
      "execution_count": 11,
      "outputs": [
        {
          "output_type": "execute_result",
          "data": {
            "text/plain": [
              "ID                       int64\n",
              "AGE                     object\n",
              "GENDER                  object\n",
              "RACE                    object\n",
              "DRIVING_EXPERIENCE      object\n",
              "EDUCATION               object\n",
              "INCOME                  object\n",
              "CREDIT_SCORE           float64\n",
              "VEHICLE_OWNERSHIP      float64\n",
              "VEHICLE_YEAR            object\n",
              "MARRIED                float64\n",
              "CHILDREN               float64\n",
              "POSTAL_CODE              int64\n",
              "ANNUAL_MILEAGE         float64\n",
              "VEHICLE_TYPE            object\n",
              "SPEEDING_VIOLATIONS      int64\n",
              "DUIS                     int64\n",
              "PAST_ACCIDENTS           int64\n",
              "OUTCOME                float64\n",
              "dtype: object"
            ]
          },
          "metadata": {},
          "execution_count": 11
        }
      ]
    },
    {
      "cell_type": "markdown",
      "source": [
        ">## <u>.info()"
      ],
      "metadata": {
        "id": "GC02dA3I6keF"
      }
    },
    {
      "cell_type": "code",
      "source": [
        "# Displaying the column names, count of non-null values, and their datatypes\n",
        "df.info()"
      ],
      "metadata": {
        "id": "qY3zuv7KHpQd",
        "colab": {
          "base_uri": "https://localhost:8080/"
        },
        "outputId": "3d72dd55-54e1-4606-ae7a-cf58b4a505c7"
      },
      "execution_count": 12,
      "outputs": [
        {
          "output_type": "stream",
          "name": "stdout",
          "text": [
            "<class 'pandas.core.frame.DataFrame'>\n",
            "RangeIndex: 10000 entries, 0 to 9999\n",
            "Data columns (total 19 columns):\n",
            " #   Column               Non-Null Count  Dtype  \n",
            "---  ------               --------------  -----  \n",
            " 0   ID                   10000 non-null  int64  \n",
            " 1   AGE                  10000 non-null  object \n",
            " 2   GENDER               10000 non-null  object \n",
            " 3   RACE                 10000 non-null  object \n",
            " 4   DRIVING_EXPERIENCE   10000 non-null  object \n",
            " 5   EDUCATION            10000 non-null  object \n",
            " 6   INCOME               10000 non-null  object \n",
            " 7   CREDIT_SCORE         9018 non-null   float64\n",
            " 8   VEHICLE_OWNERSHIP    10000 non-null  float64\n",
            " 9   VEHICLE_YEAR         10000 non-null  object \n",
            " 10  MARRIED              10000 non-null  float64\n",
            " 11  CHILDREN             10000 non-null  float64\n",
            " 12  POSTAL_CODE          10000 non-null  int64  \n",
            " 13  ANNUAL_MILEAGE       9043 non-null   float64\n",
            " 14  VEHICLE_TYPE         10000 non-null  object \n",
            " 15  SPEEDING_VIOLATIONS  10000 non-null  int64  \n",
            " 16  DUIS                 10000 non-null  int64  \n",
            " 17  PAST_ACCIDENTS       10000 non-null  int64  \n",
            " 18  OUTCOME              10000 non-null  float64\n",
            "dtypes: float64(6), int64(5), object(8)\n",
            "memory usage: 1.4+ MB\n"
          ]
        }
      ]
    },
    {
      "cell_type": "markdown",
      "source": [
        ">## <u>.describe()"
      ],
      "metadata": {
        "id": "cSmVbGnN7AV2"
      }
    },
    {
      "cell_type": "code",
      "source": [
        "# Displaying the descriptive statistics for the nonnumerical columns\n",
        "df.describe(include='number')"
      ],
      "metadata": {
        "id": "-576ZjlIHtB8",
        "colab": {
          "base_uri": "https://localhost:8080/",
          "height": 320
        },
        "outputId": "1333324a-a4bc-4175-86da-a275e4455841"
      },
      "execution_count": 13,
      "outputs": [
        {
          "output_type": "execute_result",
          "data": {
            "text/plain": [
              "                  ID  CREDIT_SCORE  VEHICLE_OWNERSHIP       MARRIED  \\\n",
              "count   10000.000000   9018.000000       10000.000000  10000.000000   \n",
              "mean   500521.906800      0.515813           0.697000      0.498200   \n",
              "std    290030.768758      0.137688           0.459578      0.500022   \n",
              "min       101.000000      0.053358           0.000000      0.000000   \n",
              "25%    249638.500000      0.417191           0.000000      0.000000   \n",
              "50%    501777.000000      0.525033           1.000000      0.000000   \n",
              "75%    753974.500000      0.618312           1.000000      1.000000   \n",
              "max    999976.000000      0.960819           1.000000      1.000000   \n",
              "\n",
              "           CHILDREN   POSTAL_CODE  ANNUAL_MILEAGE  SPEEDING_VIOLATIONS  \\\n",
              "count  10000.000000  10000.000000     9043.000000         10000.000000   \n",
              "mean       0.688800  19864.548400    11697.003207             1.482900   \n",
              "std        0.463008  18915.613855     2818.434528             2.241966   \n",
              "min        0.000000  10238.000000     2000.000000             0.000000   \n",
              "25%        0.000000  10238.000000    10000.000000             0.000000   \n",
              "50%        1.000000  10238.000000    12000.000000             0.000000   \n",
              "75%        1.000000  32765.000000    14000.000000             2.000000   \n",
              "max        1.000000  92101.000000    22000.000000            22.000000   \n",
              "\n",
              "              DUIS  PAST_ACCIDENTS       OUTCOME  \n",
              "count  10000.00000    10000.000000  10000.000000  \n",
              "mean       0.23920        1.056300      0.313300  \n",
              "std        0.55499        1.652454      0.463858  \n",
              "min        0.00000        0.000000      0.000000  \n",
              "25%        0.00000        0.000000      0.000000  \n",
              "50%        0.00000        0.000000      0.000000  \n",
              "75%        0.00000        2.000000      1.000000  \n",
              "max        6.00000       15.000000      1.000000  "
            ],
            "text/html": [
              "\n",
              "  <div id=\"df-aedbbe74-6eef-4474-b353-9852fe3a84b8\" class=\"colab-df-container\">\n",
              "    <div>\n",
              "<style scoped>\n",
              "    .dataframe tbody tr th:only-of-type {\n",
              "        vertical-align: middle;\n",
              "    }\n",
              "\n",
              "    .dataframe tbody tr th {\n",
              "        vertical-align: top;\n",
              "    }\n",
              "\n",
              "    .dataframe thead th {\n",
              "        text-align: right;\n",
              "    }\n",
              "</style>\n",
              "<table border=\"1\" class=\"dataframe\">\n",
              "  <thead>\n",
              "    <tr style=\"text-align: right;\">\n",
              "      <th></th>\n",
              "      <th>ID</th>\n",
              "      <th>CREDIT_SCORE</th>\n",
              "      <th>VEHICLE_OWNERSHIP</th>\n",
              "      <th>MARRIED</th>\n",
              "      <th>CHILDREN</th>\n",
              "      <th>POSTAL_CODE</th>\n",
              "      <th>ANNUAL_MILEAGE</th>\n",
              "      <th>SPEEDING_VIOLATIONS</th>\n",
              "      <th>DUIS</th>\n",
              "      <th>PAST_ACCIDENTS</th>\n",
              "      <th>OUTCOME</th>\n",
              "    </tr>\n",
              "  </thead>\n",
              "  <tbody>\n",
              "    <tr>\n",
              "      <th>count</th>\n",
              "      <td>10000.000000</td>\n",
              "      <td>9018.000000</td>\n",
              "      <td>10000.000000</td>\n",
              "      <td>10000.000000</td>\n",
              "      <td>10000.000000</td>\n",
              "      <td>10000.000000</td>\n",
              "      <td>9043.000000</td>\n",
              "      <td>10000.000000</td>\n",
              "      <td>10000.00000</td>\n",
              "      <td>10000.000000</td>\n",
              "      <td>10000.000000</td>\n",
              "    </tr>\n",
              "    <tr>\n",
              "      <th>mean</th>\n",
              "      <td>500521.906800</td>\n",
              "      <td>0.515813</td>\n",
              "      <td>0.697000</td>\n",
              "      <td>0.498200</td>\n",
              "      <td>0.688800</td>\n",
              "      <td>19864.548400</td>\n",
              "      <td>11697.003207</td>\n",
              "      <td>1.482900</td>\n",
              "      <td>0.23920</td>\n",
              "      <td>1.056300</td>\n",
              "      <td>0.313300</td>\n",
              "    </tr>\n",
              "    <tr>\n",
              "      <th>std</th>\n",
              "      <td>290030.768758</td>\n",
              "      <td>0.137688</td>\n",
              "      <td>0.459578</td>\n",
              "      <td>0.500022</td>\n",
              "      <td>0.463008</td>\n",
              "      <td>18915.613855</td>\n",
              "      <td>2818.434528</td>\n",
              "      <td>2.241966</td>\n",
              "      <td>0.55499</td>\n",
              "      <td>1.652454</td>\n",
              "      <td>0.463858</td>\n",
              "    </tr>\n",
              "    <tr>\n",
              "      <th>min</th>\n",
              "      <td>101.000000</td>\n",
              "      <td>0.053358</td>\n",
              "      <td>0.000000</td>\n",
              "      <td>0.000000</td>\n",
              "      <td>0.000000</td>\n",
              "      <td>10238.000000</td>\n",
              "      <td>2000.000000</td>\n",
              "      <td>0.000000</td>\n",
              "      <td>0.00000</td>\n",
              "      <td>0.000000</td>\n",
              "      <td>0.000000</td>\n",
              "    </tr>\n",
              "    <tr>\n",
              "      <th>25%</th>\n",
              "      <td>249638.500000</td>\n",
              "      <td>0.417191</td>\n",
              "      <td>0.000000</td>\n",
              "      <td>0.000000</td>\n",
              "      <td>0.000000</td>\n",
              "      <td>10238.000000</td>\n",
              "      <td>10000.000000</td>\n",
              "      <td>0.000000</td>\n",
              "      <td>0.00000</td>\n",
              "      <td>0.000000</td>\n",
              "      <td>0.000000</td>\n",
              "    </tr>\n",
              "    <tr>\n",
              "      <th>50%</th>\n",
              "      <td>501777.000000</td>\n",
              "      <td>0.525033</td>\n",
              "      <td>1.000000</td>\n",
              "      <td>0.000000</td>\n",
              "      <td>1.000000</td>\n",
              "      <td>10238.000000</td>\n",
              "      <td>12000.000000</td>\n",
              "      <td>0.000000</td>\n",
              "      <td>0.00000</td>\n",
              "      <td>0.000000</td>\n",
              "      <td>0.000000</td>\n",
              "    </tr>\n",
              "    <tr>\n",
              "      <th>75%</th>\n",
              "      <td>753974.500000</td>\n",
              "      <td>0.618312</td>\n",
              "      <td>1.000000</td>\n",
              "      <td>1.000000</td>\n",
              "      <td>1.000000</td>\n",
              "      <td>32765.000000</td>\n",
              "      <td>14000.000000</td>\n",
              "      <td>2.000000</td>\n",
              "      <td>0.00000</td>\n",
              "      <td>2.000000</td>\n",
              "      <td>1.000000</td>\n",
              "    </tr>\n",
              "    <tr>\n",
              "      <th>max</th>\n",
              "      <td>999976.000000</td>\n",
              "      <td>0.960819</td>\n",
              "      <td>1.000000</td>\n",
              "      <td>1.000000</td>\n",
              "      <td>1.000000</td>\n",
              "      <td>92101.000000</td>\n",
              "      <td>22000.000000</td>\n",
              "      <td>22.000000</td>\n",
              "      <td>6.00000</td>\n",
              "      <td>15.000000</td>\n",
              "      <td>1.000000</td>\n",
              "    </tr>\n",
              "  </tbody>\n",
              "</table>\n",
              "</div>\n",
              "    <div class=\"colab-df-buttons\">\n",
              "\n",
              "  <div class=\"colab-df-container\">\n",
              "    <button class=\"colab-df-convert\" onclick=\"convertToInteractive('df-aedbbe74-6eef-4474-b353-9852fe3a84b8')\"\n",
              "            title=\"Convert this dataframe to an interactive table.\"\n",
              "            style=\"display:none;\">\n",
              "\n",
              "  <svg xmlns=\"http://www.w3.org/2000/svg\" height=\"24px\" viewBox=\"0 -960 960 960\">\n",
              "    <path d=\"M120-120v-720h720v720H120Zm60-500h600v-160H180v160Zm220 220h160v-160H400v160Zm0 220h160v-160H400v160ZM180-400h160v-160H180v160Zm440 0h160v-160H620v160ZM180-180h160v-160H180v160Zm440 0h160v-160H620v160Z\"/>\n",
              "  </svg>\n",
              "    </button>\n",
              "\n",
              "  <style>\n",
              "    .colab-df-container {\n",
              "      display:flex;\n",
              "      gap: 12px;\n",
              "    }\n",
              "\n",
              "    .colab-df-convert {\n",
              "      background-color: #E8F0FE;\n",
              "      border: none;\n",
              "      border-radius: 50%;\n",
              "      cursor: pointer;\n",
              "      display: none;\n",
              "      fill: #1967D2;\n",
              "      height: 32px;\n",
              "      padding: 0 0 0 0;\n",
              "      width: 32px;\n",
              "    }\n",
              "\n",
              "    .colab-df-convert:hover {\n",
              "      background-color: #E2EBFA;\n",
              "      box-shadow: 0px 1px 2px rgba(60, 64, 67, 0.3), 0px 1px 3px 1px rgba(60, 64, 67, 0.15);\n",
              "      fill: #174EA6;\n",
              "    }\n",
              "\n",
              "    .colab-df-buttons div {\n",
              "      margin-bottom: 4px;\n",
              "    }\n",
              "\n",
              "    [theme=dark] .colab-df-convert {\n",
              "      background-color: #3B4455;\n",
              "      fill: #D2E3FC;\n",
              "    }\n",
              "\n",
              "    [theme=dark] .colab-df-convert:hover {\n",
              "      background-color: #434B5C;\n",
              "      box-shadow: 0px 1px 3px 1px rgba(0, 0, 0, 0.15);\n",
              "      filter: drop-shadow(0px 1px 2px rgba(0, 0, 0, 0.3));\n",
              "      fill: #FFFFFF;\n",
              "    }\n",
              "  </style>\n",
              "\n",
              "    <script>\n",
              "      const buttonEl =\n",
              "        document.querySelector('#df-aedbbe74-6eef-4474-b353-9852fe3a84b8 button.colab-df-convert');\n",
              "      buttonEl.style.display =\n",
              "        google.colab.kernel.accessAllowed ? 'block' : 'none';\n",
              "\n",
              "      async function convertToInteractive(key) {\n",
              "        const element = document.querySelector('#df-aedbbe74-6eef-4474-b353-9852fe3a84b8');\n",
              "        const dataTable =\n",
              "          await google.colab.kernel.invokeFunction('convertToInteractive',\n",
              "                                                    [key], {});\n",
              "        if (!dataTable) return;\n",
              "\n",
              "        const docLinkHtml = 'Like what you see? Visit the ' +\n",
              "          '<a target=\"_blank\" href=https://colab.research.google.com/notebooks/data_table.ipynb>data table notebook</a>'\n",
              "          + ' to learn more about interactive tables.';\n",
              "        element.innerHTML = '';\n",
              "        dataTable['output_type'] = 'display_data';\n",
              "        await google.colab.output.renderOutput(dataTable, element);\n",
              "        const docLink = document.createElement('div');\n",
              "        docLink.innerHTML = docLinkHtml;\n",
              "        element.appendChild(docLink);\n",
              "      }\n",
              "    </script>\n",
              "  </div>\n",
              "\n",
              "\n",
              "<div id=\"df-6e863736-dc12-4fa1-b2c9-6b1bf44f8964\">\n",
              "  <button class=\"colab-df-quickchart\" onclick=\"quickchart('df-6e863736-dc12-4fa1-b2c9-6b1bf44f8964')\"\n",
              "            title=\"Suggest charts.\"\n",
              "            style=\"display:none;\">\n",
              "\n",
              "<svg xmlns=\"http://www.w3.org/2000/svg\" height=\"24px\"viewBox=\"0 0 24 24\"\n",
              "     width=\"24px\">\n",
              "    <g>\n",
              "        <path d=\"M19 3H5c-1.1 0-2 .9-2 2v14c0 1.1.9 2 2 2h14c1.1 0 2-.9 2-2V5c0-1.1-.9-2-2-2zM9 17H7v-7h2v7zm4 0h-2V7h2v10zm4 0h-2v-4h2v4z\"/>\n",
              "    </g>\n",
              "</svg>\n",
              "  </button>\n",
              "\n",
              "<style>\n",
              "  .colab-df-quickchart {\n",
              "      --bg-color: #E8F0FE;\n",
              "      --fill-color: #1967D2;\n",
              "      --hover-bg-color: #E2EBFA;\n",
              "      --hover-fill-color: #174EA6;\n",
              "      --disabled-fill-color: #AAA;\n",
              "      --disabled-bg-color: #DDD;\n",
              "  }\n",
              "\n",
              "  [theme=dark] .colab-df-quickchart {\n",
              "      --bg-color: #3B4455;\n",
              "      --fill-color: #D2E3FC;\n",
              "      --hover-bg-color: #434B5C;\n",
              "      --hover-fill-color: #FFFFFF;\n",
              "      --disabled-bg-color: #3B4455;\n",
              "      --disabled-fill-color: #666;\n",
              "  }\n",
              "\n",
              "  .colab-df-quickchart {\n",
              "    background-color: var(--bg-color);\n",
              "    border: none;\n",
              "    border-radius: 50%;\n",
              "    cursor: pointer;\n",
              "    display: none;\n",
              "    fill: var(--fill-color);\n",
              "    height: 32px;\n",
              "    padding: 0;\n",
              "    width: 32px;\n",
              "  }\n",
              "\n",
              "  .colab-df-quickchart:hover {\n",
              "    background-color: var(--hover-bg-color);\n",
              "    box-shadow: 0 1px 2px rgba(60, 64, 67, 0.3), 0 1px 3px 1px rgba(60, 64, 67, 0.15);\n",
              "    fill: var(--button-hover-fill-color);\n",
              "  }\n",
              "\n",
              "  .colab-df-quickchart-complete:disabled,\n",
              "  .colab-df-quickchart-complete:disabled:hover {\n",
              "    background-color: var(--disabled-bg-color);\n",
              "    fill: var(--disabled-fill-color);\n",
              "    box-shadow: none;\n",
              "  }\n",
              "\n",
              "  .colab-df-spinner {\n",
              "    border: 2px solid var(--fill-color);\n",
              "    border-color: transparent;\n",
              "    border-bottom-color: var(--fill-color);\n",
              "    animation:\n",
              "      spin 1s steps(1) infinite;\n",
              "  }\n",
              "\n",
              "  @keyframes spin {\n",
              "    0% {\n",
              "      border-color: transparent;\n",
              "      border-bottom-color: var(--fill-color);\n",
              "      border-left-color: var(--fill-color);\n",
              "    }\n",
              "    20% {\n",
              "      border-color: transparent;\n",
              "      border-left-color: var(--fill-color);\n",
              "      border-top-color: var(--fill-color);\n",
              "    }\n",
              "    30% {\n",
              "      border-color: transparent;\n",
              "      border-left-color: var(--fill-color);\n",
              "      border-top-color: var(--fill-color);\n",
              "      border-right-color: var(--fill-color);\n",
              "    }\n",
              "    40% {\n",
              "      border-color: transparent;\n",
              "      border-right-color: var(--fill-color);\n",
              "      border-top-color: var(--fill-color);\n",
              "    }\n",
              "    60% {\n",
              "      border-color: transparent;\n",
              "      border-right-color: var(--fill-color);\n",
              "    }\n",
              "    80% {\n",
              "      border-color: transparent;\n",
              "      border-right-color: var(--fill-color);\n",
              "      border-bottom-color: var(--fill-color);\n",
              "    }\n",
              "    90% {\n",
              "      border-color: transparent;\n",
              "      border-bottom-color: var(--fill-color);\n",
              "    }\n",
              "  }\n",
              "</style>\n",
              "\n",
              "  <script>\n",
              "    async function quickchart(key) {\n",
              "      const quickchartButtonEl =\n",
              "        document.querySelector('#' + key + ' button');\n",
              "      quickchartButtonEl.disabled = true;  // To prevent multiple clicks.\n",
              "      quickchartButtonEl.classList.add('colab-df-spinner');\n",
              "      try {\n",
              "        const charts = await google.colab.kernel.invokeFunction(\n",
              "            'suggestCharts', [key], {});\n",
              "      } catch (error) {\n",
              "        console.error('Error during call to suggestCharts:', error);\n",
              "      }\n",
              "      quickchartButtonEl.classList.remove('colab-df-spinner');\n",
              "      quickchartButtonEl.classList.add('colab-df-quickchart-complete');\n",
              "    }\n",
              "    (() => {\n",
              "      let quickchartButtonEl =\n",
              "        document.querySelector('#df-6e863736-dc12-4fa1-b2c9-6b1bf44f8964 button');\n",
              "      quickchartButtonEl.style.display =\n",
              "        google.colab.kernel.accessAllowed ? 'block' : 'none';\n",
              "    })();\n",
              "  </script>\n",
              "</div>\n",
              "    </div>\n",
              "  </div>\n"
            ]
          },
          "metadata": {},
          "execution_count": 13
        }
      ]
    },
    {
      "cell_type": "code",
      "source": [
        "# Displaying the descriptive statistics for the nonnumerical columns\n",
        "df.describe(exclude=\"number\")"
      ],
      "metadata": {
        "id": "KVt9H1S_ICPg",
        "colab": {
          "base_uri": "https://localhost:8080/",
          "height": 175
        },
        "outputId": "85abfa79-fd9f-4eac-b322-a97090f84e1a"
      },
      "execution_count": 14,
      "outputs": [
        {
          "output_type": "execute_result",
          "data": {
            "text/plain": [
              "          AGE  GENDER      RACE DRIVING_EXPERIENCE    EDUCATION       INCOME  \\\n",
              "count   10000   10000     10000              10000        10000        10000   \n",
              "unique      4       2         2                  4            3            4   \n",
              "top     26-39  female  majority               0-9y  high school  upper class   \n",
              "freq     3063    5010      9012               3530         4157         4336   \n",
              "\n",
              "       VEHICLE_YEAR VEHICLE_TYPE  \n",
              "count         10000        10000  \n",
              "unique            2            2  \n",
              "top     before 2015        sedan  \n",
              "freq           6967         9523  "
            ],
            "text/html": [
              "\n",
              "  <div id=\"df-d68d1035-f4a9-404a-83a4-72c717f59197\" class=\"colab-df-container\">\n",
              "    <div>\n",
              "<style scoped>\n",
              "    .dataframe tbody tr th:only-of-type {\n",
              "        vertical-align: middle;\n",
              "    }\n",
              "\n",
              "    .dataframe tbody tr th {\n",
              "        vertical-align: top;\n",
              "    }\n",
              "\n",
              "    .dataframe thead th {\n",
              "        text-align: right;\n",
              "    }\n",
              "</style>\n",
              "<table border=\"1\" class=\"dataframe\">\n",
              "  <thead>\n",
              "    <tr style=\"text-align: right;\">\n",
              "      <th></th>\n",
              "      <th>AGE</th>\n",
              "      <th>GENDER</th>\n",
              "      <th>RACE</th>\n",
              "      <th>DRIVING_EXPERIENCE</th>\n",
              "      <th>EDUCATION</th>\n",
              "      <th>INCOME</th>\n",
              "      <th>VEHICLE_YEAR</th>\n",
              "      <th>VEHICLE_TYPE</th>\n",
              "    </tr>\n",
              "  </thead>\n",
              "  <tbody>\n",
              "    <tr>\n",
              "      <th>count</th>\n",
              "      <td>10000</td>\n",
              "      <td>10000</td>\n",
              "      <td>10000</td>\n",
              "      <td>10000</td>\n",
              "      <td>10000</td>\n",
              "      <td>10000</td>\n",
              "      <td>10000</td>\n",
              "      <td>10000</td>\n",
              "    </tr>\n",
              "    <tr>\n",
              "      <th>unique</th>\n",
              "      <td>4</td>\n",
              "      <td>2</td>\n",
              "      <td>2</td>\n",
              "      <td>4</td>\n",
              "      <td>3</td>\n",
              "      <td>4</td>\n",
              "      <td>2</td>\n",
              "      <td>2</td>\n",
              "    </tr>\n",
              "    <tr>\n",
              "      <th>top</th>\n",
              "      <td>26-39</td>\n",
              "      <td>female</td>\n",
              "      <td>majority</td>\n",
              "      <td>0-9y</td>\n",
              "      <td>high school</td>\n",
              "      <td>upper class</td>\n",
              "      <td>before 2015</td>\n",
              "      <td>sedan</td>\n",
              "    </tr>\n",
              "    <tr>\n",
              "      <th>freq</th>\n",
              "      <td>3063</td>\n",
              "      <td>5010</td>\n",
              "      <td>9012</td>\n",
              "      <td>3530</td>\n",
              "      <td>4157</td>\n",
              "      <td>4336</td>\n",
              "      <td>6967</td>\n",
              "      <td>9523</td>\n",
              "    </tr>\n",
              "  </tbody>\n",
              "</table>\n",
              "</div>\n",
              "    <div class=\"colab-df-buttons\">\n",
              "\n",
              "  <div class=\"colab-df-container\">\n",
              "    <button class=\"colab-df-convert\" onclick=\"convertToInteractive('df-d68d1035-f4a9-404a-83a4-72c717f59197')\"\n",
              "            title=\"Convert this dataframe to an interactive table.\"\n",
              "            style=\"display:none;\">\n",
              "\n",
              "  <svg xmlns=\"http://www.w3.org/2000/svg\" height=\"24px\" viewBox=\"0 -960 960 960\">\n",
              "    <path d=\"M120-120v-720h720v720H120Zm60-500h600v-160H180v160Zm220 220h160v-160H400v160Zm0 220h160v-160H400v160ZM180-400h160v-160H180v160Zm440 0h160v-160H620v160ZM180-180h160v-160H180v160Zm440 0h160v-160H620v160Z\"/>\n",
              "  </svg>\n",
              "    </button>\n",
              "\n",
              "  <style>\n",
              "    .colab-df-container {\n",
              "      display:flex;\n",
              "      gap: 12px;\n",
              "    }\n",
              "\n",
              "    .colab-df-convert {\n",
              "      background-color: #E8F0FE;\n",
              "      border: none;\n",
              "      border-radius: 50%;\n",
              "      cursor: pointer;\n",
              "      display: none;\n",
              "      fill: #1967D2;\n",
              "      height: 32px;\n",
              "      padding: 0 0 0 0;\n",
              "      width: 32px;\n",
              "    }\n",
              "\n",
              "    .colab-df-convert:hover {\n",
              "      background-color: #E2EBFA;\n",
              "      box-shadow: 0px 1px 2px rgba(60, 64, 67, 0.3), 0px 1px 3px 1px rgba(60, 64, 67, 0.15);\n",
              "      fill: #174EA6;\n",
              "    }\n",
              "\n",
              "    .colab-df-buttons div {\n",
              "      margin-bottom: 4px;\n",
              "    }\n",
              "\n",
              "    [theme=dark] .colab-df-convert {\n",
              "      background-color: #3B4455;\n",
              "      fill: #D2E3FC;\n",
              "    }\n",
              "\n",
              "    [theme=dark] .colab-df-convert:hover {\n",
              "      background-color: #434B5C;\n",
              "      box-shadow: 0px 1px 3px 1px rgba(0, 0, 0, 0.15);\n",
              "      filter: drop-shadow(0px 1px 2px rgba(0, 0, 0, 0.3));\n",
              "      fill: #FFFFFF;\n",
              "    }\n",
              "  </style>\n",
              "\n",
              "    <script>\n",
              "      const buttonEl =\n",
              "        document.querySelector('#df-d68d1035-f4a9-404a-83a4-72c717f59197 button.colab-df-convert');\n",
              "      buttonEl.style.display =\n",
              "        google.colab.kernel.accessAllowed ? 'block' : 'none';\n",
              "\n",
              "      async function convertToInteractive(key) {\n",
              "        const element = document.querySelector('#df-d68d1035-f4a9-404a-83a4-72c717f59197');\n",
              "        const dataTable =\n",
              "          await google.colab.kernel.invokeFunction('convertToInteractive',\n",
              "                                                    [key], {});\n",
              "        if (!dataTable) return;\n",
              "\n",
              "        const docLinkHtml = 'Like what you see? Visit the ' +\n",
              "          '<a target=\"_blank\" href=https://colab.research.google.com/notebooks/data_table.ipynb>data table notebook</a>'\n",
              "          + ' to learn more about interactive tables.';\n",
              "        element.innerHTML = '';\n",
              "        dataTable['output_type'] = 'display_data';\n",
              "        await google.colab.output.renderOutput(dataTable, element);\n",
              "        const docLink = document.createElement('div');\n",
              "        docLink.innerHTML = docLinkHtml;\n",
              "        element.appendChild(docLink);\n",
              "      }\n",
              "    </script>\n",
              "  </div>\n",
              "\n",
              "\n",
              "<div id=\"df-65e88a45-0e8f-420d-b5d5-d33db16bb82c\">\n",
              "  <button class=\"colab-df-quickchart\" onclick=\"quickchart('df-65e88a45-0e8f-420d-b5d5-d33db16bb82c')\"\n",
              "            title=\"Suggest charts.\"\n",
              "            style=\"display:none;\">\n",
              "\n",
              "<svg xmlns=\"http://www.w3.org/2000/svg\" height=\"24px\"viewBox=\"0 0 24 24\"\n",
              "     width=\"24px\">\n",
              "    <g>\n",
              "        <path d=\"M19 3H5c-1.1 0-2 .9-2 2v14c0 1.1.9 2 2 2h14c1.1 0 2-.9 2-2V5c0-1.1-.9-2-2-2zM9 17H7v-7h2v7zm4 0h-2V7h2v10zm4 0h-2v-4h2v4z\"/>\n",
              "    </g>\n",
              "</svg>\n",
              "  </button>\n",
              "\n",
              "<style>\n",
              "  .colab-df-quickchart {\n",
              "      --bg-color: #E8F0FE;\n",
              "      --fill-color: #1967D2;\n",
              "      --hover-bg-color: #E2EBFA;\n",
              "      --hover-fill-color: #174EA6;\n",
              "      --disabled-fill-color: #AAA;\n",
              "      --disabled-bg-color: #DDD;\n",
              "  }\n",
              "\n",
              "  [theme=dark] .colab-df-quickchart {\n",
              "      --bg-color: #3B4455;\n",
              "      --fill-color: #D2E3FC;\n",
              "      --hover-bg-color: #434B5C;\n",
              "      --hover-fill-color: #FFFFFF;\n",
              "      --disabled-bg-color: #3B4455;\n",
              "      --disabled-fill-color: #666;\n",
              "  }\n",
              "\n",
              "  .colab-df-quickchart {\n",
              "    background-color: var(--bg-color);\n",
              "    border: none;\n",
              "    border-radius: 50%;\n",
              "    cursor: pointer;\n",
              "    display: none;\n",
              "    fill: var(--fill-color);\n",
              "    height: 32px;\n",
              "    padding: 0;\n",
              "    width: 32px;\n",
              "  }\n",
              "\n",
              "  .colab-df-quickchart:hover {\n",
              "    background-color: var(--hover-bg-color);\n",
              "    box-shadow: 0 1px 2px rgba(60, 64, 67, 0.3), 0 1px 3px 1px rgba(60, 64, 67, 0.15);\n",
              "    fill: var(--button-hover-fill-color);\n",
              "  }\n",
              "\n",
              "  .colab-df-quickchart-complete:disabled,\n",
              "  .colab-df-quickchart-complete:disabled:hover {\n",
              "    background-color: var(--disabled-bg-color);\n",
              "    fill: var(--disabled-fill-color);\n",
              "    box-shadow: none;\n",
              "  }\n",
              "\n",
              "  .colab-df-spinner {\n",
              "    border: 2px solid var(--fill-color);\n",
              "    border-color: transparent;\n",
              "    border-bottom-color: var(--fill-color);\n",
              "    animation:\n",
              "      spin 1s steps(1) infinite;\n",
              "  }\n",
              "\n",
              "  @keyframes spin {\n",
              "    0% {\n",
              "      border-color: transparent;\n",
              "      border-bottom-color: var(--fill-color);\n",
              "      border-left-color: var(--fill-color);\n",
              "    }\n",
              "    20% {\n",
              "      border-color: transparent;\n",
              "      border-left-color: var(--fill-color);\n",
              "      border-top-color: var(--fill-color);\n",
              "    }\n",
              "    30% {\n",
              "      border-color: transparent;\n",
              "      border-left-color: var(--fill-color);\n",
              "      border-top-color: var(--fill-color);\n",
              "      border-right-color: var(--fill-color);\n",
              "    }\n",
              "    40% {\n",
              "      border-color: transparent;\n",
              "      border-right-color: var(--fill-color);\n",
              "      border-top-color: var(--fill-color);\n",
              "    }\n",
              "    60% {\n",
              "      border-color: transparent;\n",
              "      border-right-color: var(--fill-color);\n",
              "    }\n",
              "    80% {\n",
              "      border-color: transparent;\n",
              "      border-right-color: var(--fill-color);\n",
              "      border-bottom-color: var(--fill-color);\n",
              "    }\n",
              "    90% {\n",
              "      border-color: transparent;\n",
              "      border-bottom-color: var(--fill-color);\n",
              "    }\n",
              "  }\n",
              "</style>\n",
              "\n",
              "  <script>\n",
              "    async function quickchart(key) {\n",
              "      const quickchartButtonEl =\n",
              "        document.querySelector('#' + key + ' button');\n",
              "      quickchartButtonEl.disabled = true;  // To prevent multiple clicks.\n",
              "      quickchartButtonEl.classList.add('colab-df-spinner');\n",
              "      try {\n",
              "        const charts = await google.colab.kernel.invokeFunction(\n",
              "            'suggestCharts', [key], {});\n",
              "      } catch (error) {\n",
              "        console.error('Error during call to suggestCharts:', error);\n",
              "      }\n",
              "      quickchartButtonEl.classList.remove('colab-df-spinner');\n",
              "      quickchartButtonEl.classList.add('colab-df-quickchart-complete');\n",
              "    }\n",
              "    (() => {\n",
              "      let quickchartButtonEl =\n",
              "        document.querySelector('#df-65e88a45-0e8f-420d-b5d5-d33db16bb82c button');\n",
              "      quickchartButtonEl.style.display =\n",
              "        google.colab.kernel.accessAllowed ? 'block' : 'none';\n",
              "    })();\n",
              "  </script>\n",
              "</div>\n",
              "    </div>\n",
              "  </div>\n"
            ]
          },
          "metadata": {},
          "execution_count": 14
        }
      ]
    },
    {
      "cell_type": "markdown",
      "source": [
        "# **Data Cleaning and Exploring:**"
      ],
      "metadata": {
        "id": "YAy3-VLL51un"
      }
    },
    {
      "cell_type": "code",
      "execution_count": 15,
      "metadata": {
        "id": "ab78e1d4"
      },
      "outputs": [],
      "source": [
        "# Remove leading and trailing characters\n",
        "df.columns = df.columns.str.strip()"
      ]
    },
    {
      "cell_type": "code",
      "execution_count": 16,
      "metadata": {
        "id": "0R4ixz77ft_t",
        "colab": {
          "base_uri": "https://localhost:8080/"
        },
        "outputId": "8ac0f0a1-1c53-46f0-afd7-841c13a44426"
      },
      "outputs": [
        {
          "output_type": "execute_result",
          "data": {
            "text/plain": [
              "ID                       int64\n",
              "AGE                     object\n",
              "GENDER                  object\n",
              "RACE                    object\n",
              "DRIVING_EXPERIENCE      object\n",
              "EDUCATION               object\n",
              "INCOME                  object\n",
              "CREDIT_SCORE           float64\n",
              "VEHICLE_OWNERSHIP      float64\n",
              "VEHICLE_YEAR            object\n",
              "MARRIED                float64\n",
              "CHILDREN               float64\n",
              "POSTAL_CODE              int64\n",
              "ANNUAL_MILEAGE         float64\n",
              "VEHICLE_TYPE            object\n",
              "SPEEDING_VIOLATIONS      int64\n",
              "DUIS                     int64\n",
              "PAST_ACCIDENTS           int64\n",
              "OUTCOME                float64\n",
              "dtype: object"
            ]
          },
          "metadata": {},
          "execution_count": 16
        }
      ],
      "source": [
        "# Display the column names and datatypes for each column\n",
        "# Columns with mixed datatypes are identified as an object datatype\n",
        "df.dtypes"
      ]
    },
    {
      "cell_type": "markdown",
      "source": [
        "> ## <u>Duplicates"
      ],
      "metadata": {
        "id": "wWTDmlPkKlr4"
      }
    },
    {
      "cell_type": "code",
      "source": [
        "# Dropping 12 duplicate row\n",
        "df = df.drop_duplicates()"
      ],
      "metadata": {
        "id": "-3pb-75aLSBW"
      },
      "execution_count": 17,
      "outputs": []
    },
    {
      "cell_type": "code",
      "source": [
        "# Display the number of duplicate rows in the dataset\n",
        "print(f'There are {df.duplicated().sum()} duplicate rows.')"
      ],
      "metadata": {
        "colab": {
          "base_uri": "https://localhost:8080/"
        },
        "id": "mOmWXbMpP5sf",
        "outputId": "69d976f4-2763-47c7-aac4-5219f7fcd45d"
      },
      "execution_count": 18,
      "outputs": [
        {
          "output_type": "stream",
          "name": "stdout",
          "text": [
            "There are 0 duplicate rows.\n"
          ]
        }
      ]
    },
    {
      "cell_type": "markdown",
      "source": [
        "> ## <u>Dropping Columns & Duplicates\n"
      ],
      "metadata": {
        "id": "xhDyjNAFENG1"
      }
    },
    {
      "cell_type": "code",
      "source": [
        "# Dropping unnecessary columns\n",
        "df = df.drop(['ID'], axis = 1)\n"
      ],
      "metadata": {
        "id": "i4oOeg6HLtBd"
      },
      "execution_count": 19,
      "outputs": []
    },
    {
      "cell_type": "code",
      "source": [
        "df.head()"
      ],
      "metadata": {
        "colab": {
          "base_uri": "https://localhost:8080/",
          "height": 313
        },
        "id": "tDO6s8LoZYGR",
        "outputId": "c96f3700-f50e-4233-fd6a-b77d4a722fca"
      },
      "execution_count": 20,
      "outputs": [
        {
          "output_type": "execute_result",
          "data": {
            "text/plain": [
              "     AGE  GENDER      RACE DRIVING_EXPERIENCE    EDUCATION         INCOME  \\\n",
              "0    65+  female  majority               0-9y  high school    upper class   \n",
              "1  16-25    male  majority               0-9y         none        poverty   \n",
              "2  16-25  female  majority               0-9y  high school  working class   \n",
              "3  16-25    male  majority               0-9y   university  working class   \n",
              "4  26-39    male  majority             10-19y         none  working class   \n",
              "\n",
              "   CREDIT_SCORE  VEHICLE_OWNERSHIP VEHICLE_YEAR  MARRIED  CHILDREN  \\\n",
              "0      0.629027                1.0   after 2015      0.0       1.0   \n",
              "1      0.357757                0.0  before 2015      0.0       0.0   \n",
              "2      0.493146                1.0  before 2015      0.0       0.0   \n",
              "3      0.206013                1.0  before 2015      0.0       1.0   \n",
              "4      0.388366                1.0  before 2015      0.0       0.0   \n",
              "\n",
              "   POSTAL_CODE  ANNUAL_MILEAGE VEHICLE_TYPE  SPEEDING_VIOLATIONS  DUIS  \\\n",
              "0        10238         12000.0        sedan                    0     0   \n",
              "1        10238         16000.0        sedan                    0     0   \n",
              "2        10238         11000.0        sedan                    0     0   \n",
              "3        32765         11000.0        sedan                    0     0   \n",
              "4        32765         12000.0        sedan                    2     0   \n",
              "\n",
              "   PAST_ACCIDENTS  OUTCOME  \n",
              "0               0      0.0  \n",
              "1               0      1.0  \n",
              "2               0      0.0  \n",
              "3               0      0.0  \n",
              "4               1      1.0  "
            ],
            "text/html": [
              "\n",
              "  <div id=\"df-10329ac9-b15b-40ce-a61c-370781ef5d7b\" class=\"colab-df-container\">\n",
              "    <div>\n",
              "<style scoped>\n",
              "    .dataframe tbody tr th:only-of-type {\n",
              "        vertical-align: middle;\n",
              "    }\n",
              "\n",
              "    .dataframe tbody tr th {\n",
              "        vertical-align: top;\n",
              "    }\n",
              "\n",
              "    .dataframe thead th {\n",
              "        text-align: right;\n",
              "    }\n",
              "</style>\n",
              "<table border=\"1\" class=\"dataframe\">\n",
              "  <thead>\n",
              "    <tr style=\"text-align: right;\">\n",
              "      <th></th>\n",
              "      <th>AGE</th>\n",
              "      <th>GENDER</th>\n",
              "      <th>RACE</th>\n",
              "      <th>DRIVING_EXPERIENCE</th>\n",
              "      <th>EDUCATION</th>\n",
              "      <th>INCOME</th>\n",
              "      <th>CREDIT_SCORE</th>\n",
              "      <th>VEHICLE_OWNERSHIP</th>\n",
              "      <th>VEHICLE_YEAR</th>\n",
              "      <th>MARRIED</th>\n",
              "      <th>CHILDREN</th>\n",
              "      <th>POSTAL_CODE</th>\n",
              "      <th>ANNUAL_MILEAGE</th>\n",
              "      <th>VEHICLE_TYPE</th>\n",
              "      <th>SPEEDING_VIOLATIONS</th>\n",
              "      <th>DUIS</th>\n",
              "      <th>PAST_ACCIDENTS</th>\n",
              "      <th>OUTCOME</th>\n",
              "    </tr>\n",
              "  </thead>\n",
              "  <tbody>\n",
              "    <tr>\n",
              "      <th>0</th>\n",
              "      <td>65+</td>\n",
              "      <td>female</td>\n",
              "      <td>majority</td>\n",
              "      <td>0-9y</td>\n",
              "      <td>high school</td>\n",
              "      <td>upper class</td>\n",
              "      <td>0.629027</td>\n",
              "      <td>1.0</td>\n",
              "      <td>after 2015</td>\n",
              "      <td>0.0</td>\n",
              "      <td>1.0</td>\n",
              "      <td>10238</td>\n",
              "      <td>12000.0</td>\n",
              "      <td>sedan</td>\n",
              "      <td>0</td>\n",
              "      <td>0</td>\n",
              "      <td>0</td>\n",
              "      <td>0.0</td>\n",
              "    </tr>\n",
              "    <tr>\n",
              "      <th>1</th>\n",
              "      <td>16-25</td>\n",
              "      <td>male</td>\n",
              "      <td>majority</td>\n",
              "      <td>0-9y</td>\n",
              "      <td>none</td>\n",
              "      <td>poverty</td>\n",
              "      <td>0.357757</td>\n",
              "      <td>0.0</td>\n",
              "      <td>before 2015</td>\n",
              "      <td>0.0</td>\n",
              "      <td>0.0</td>\n",
              "      <td>10238</td>\n",
              "      <td>16000.0</td>\n",
              "      <td>sedan</td>\n",
              "      <td>0</td>\n",
              "      <td>0</td>\n",
              "      <td>0</td>\n",
              "      <td>1.0</td>\n",
              "    </tr>\n",
              "    <tr>\n",
              "      <th>2</th>\n",
              "      <td>16-25</td>\n",
              "      <td>female</td>\n",
              "      <td>majority</td>\n",
              "      <td>0-9y</td>\n",
              "      <td>high school</td>\n",
              "      <td>working class</td>\n",
              "      <td>0.493146</td>\n",
              "      <td>1.0</td>\n",
              "      <td>before 2015</td>\n",
              "      <td>0.0</td>\n",
              "      <td>0.0</td>\n",
              "      <td>10238</td>\n",
              "      <td>11000.0</td>\n",
              "      <td>sedan</td>\n",
              "      <td>0</td>\n",
              "      <td>0</td>\n",
              "      <td>0</td>\n",
              "      <td>0.0</td>\n",
              "    </tr>\n",
              "    <tr>\n",
              "      <th>3</th>\n",
              "      <td>16-25</td>\n",
              "      <td>male</td>\n",
              "      <td>majority</td>\n",
              "      <td>0-9y</td>\n",
              "      <td>university</td>\n",
              "      <td>working class</td>\n",
              "      <td>0.206013</td>\n",
              "      <td>1.0</td>\n",
              "      <td>before 2015</td>\n",
              "      <td>0.0</td>\n",
              "      <td>1.0</td>\n",
              "      <td>32765</td>\n",
              "      <td>11000.0</td>\n",
              "      <td>sedan</td>\n",
              "      <td>0</td>\n",
              "      <td>0</td>\n",
              "      <td>0</td>\n",
              "      <td>0.0</td>\n",
              "    </tr>\n",
              "    <tr>\n",
              "      <th>4</th>\n",
              "      <td>26-39</td>\n",
              "      <td>male</td>\n",
              "      <td>majority</td>\n",
              "      <td>10-19y</td>\n",
              "      <td>none</td>\n",
              "      <td>working class</td>\n",
              "      <td>0.388366</td>\n",
              "      <td>1.0</td>\n",
              "      <td>before 2015</td>\n",
              "      <td>0.0</td>\n",
              "      <td>0.0</td>\n",
              "      <td>32765</td>\n",
              "      <td>12000.0</td>\n",
              "      <td>sedan</td>\n",
              "      <td>2</td>\n",
              "      <td>0</td>\n",
              "      <td>1</td>\n",
              "      <td>1.0</td>\n",
              "    </tr>\n",
              "  </tbody>\n",
              "</table>\n",
              "</div>\n",
              "    <div class=\"colab-df-buttons\">\n",
              "\n",
              "  <div class=\"colab-df-container\">\n",
              "    <button class=\"colab-df-convert\" onclick=\"convertToInteractive('df-10329ac9-b15b-40ce-a61c-370781ef5d7b')\"\n",
              "            title=\"Convert this dataframe to an interactive table.\"\n",
              "            style=\"display:none;\">\n",
              "\n",
              "  <svg xmlns=\"http://www.w3.org/2000/svg\" height=\"24px\" viewBox=\"0 -960 960 960\">\n",
              "    <path d=\"M120-120v-720h720v720H120Zm60-500h600v-160H180v160Zm220 220h160v-160H400v160Zm0 220h160v-160H400v160ZM180-400h160v-160H180v160Zm440 0h160v-160H620v160ZM180-180h160v-160H180v160Zm440 0h160v-160H620v160Z\"/>\n",
              "  </svg>\n",
              "    </button>\n",
              "\n",
              "  <style>\n",
              "    .colab-df-container {\n",
              "      display:flex;\n",
              "      gap: 12px;\n",
              "    }\n",
              "\n",
              "    .colab-df-convert {\n",
              "      background-color: #E8F0FE;\n",
              "      border: none;\n",
              "      border-radius: 50%;\n",
              "      cursor: pointer;\n",
              "      display: none;\n",
              "      fill: #1967D2;\n",
              "      height: 32px;\n",
              "      padding: 0 0 0 0;\n",
              "      width: 32px;\n",
              "    }\n",
              "\n",
              "    .colab-df-convert:hover {\n",
              "      background-color: #E2EBFA;\n",
              "      box-shadow: 0px 1px 2px rgba(60, 64, 67, 0.3), 0px 1px 3px 1px rgba(60, 64, 67, 0.15);\n",
              "      fill: #174EA6;\n",
              "    }\n",
              "\n",
              "    .colab-df-buttons div {\n",
              "      margin-bottom: 4px;\n",
              "    }\n",
              "\n",
              "    [theme=dark] .colab-df-convert {\n",
              "      background-color: #3B4455;\n",
              "      fill: #D2E3FC;\n",
              "    }\n",
              "\n",
              "    [theme=dark] .colab-df-convert:hover {\n",
              "      background-color: #434B5C;\n",
              "      box-shadow: 0px 1px 3px 1px rgba(0, 0, 0, 0.15);\n",
              "      filter: drop-shadow(0px 1px 2px rgba(0, 0, 0, 0.3));\n",
              "      fill: #FFFFFF;\n",
              "    }\n",
              "  </style>\n",
              "\n",
              "    <script>\n",
              "      const buttonEl =\n",
              "        document.querySelector('#df-10329ac9-b15b-40ce-a61c-370781ef5d7b button.colab-df-convert');\n",
              "      buttonEl.style.display =\n",
              "        google.colab.kernel.accessAllowed ? 'block' : 'none';\n",
              "\n",
              "      async function convertToInteractive(key) {\n",
              "        const element = document.querySelector('#df-10329ac9-b15b-40ce-a61c-370781ef5d7b');\n",
              "        const dataTable =\n",
              "          await google.colab.kernel.invokeFunction('convertToInteractive',\n",
              "                                                    [key], {});\n",
              "        if (!dataTable) return;\n",
              "\n",
              "        const docLinkHtml = 'Like what you see? Visit the ' +\n",
              "          '<a target=\"_blank\" href=https://colab.research.google.com/notebooks/data_table.ipynb>data table notebook</a>'\n",
              "          + ' to learn more about interactive tables.';\n",
              "        element.innerHTML = '';\n",
              "        dataTable['output_type'] = 'display_data';\n",
              "        await google.colab.output.renderOutput(dataTable, element);\n",
              "        const docLink = document.createElement('div');\n",
              "        docLink.innerHTML = docLinkHtml;\n",
              "        element.appendChild(docLink);\n",
              "      }\n",
              "    </script>\n",
              "  </div>\n",
              "\n",
              "\n",
              "<div id=\"df-70a6d922-6dc8-44ef-9ed9-53cdb250d986\">\n",
              "  <button class=\"colab-df-quickchart\" onclick=\"quickchart('df-70a6d922-6dc8-44ef-9ed9-53cdb250d986')\"\n",
              "            title=\"Suggest charts.\"\n",
              "            style=\"display:none;\">\n",
              "\n",
              "<svg xmlns=\"http://www.w3.org/2000/svg\" height=\"24px\"viewBox=\"0 0 24 24\"\n",
              "     width=\"24px\">\n",
              "    <g>\n",
              "        <path d=\"M19 3H5c-1.1 0-2 .9-2 2v14c0 1.1.9 2 2 2h14c1.1 0 2-.9 2-2V5c0-1.1-.9-2-2-2zM9 17H7v-7h2v7zm4 0h-2V7h2v10zm4 0h-2v-4h2v4z\"/>\n",
              "    </g>\n",
              "</svg>\n",
              "  </button>\n",
              "\n",
              "<style>\n",
              "  .colab-df-quickchart {\n",
              "      --bg-color: #E8F0FE;\n",
              "      --fill-color: #1967D2;\n",
              "      --hover-bg-color: #E2EBFA;\n",
              "      --hover-fill-color: #174EA6;\n",
              "      --disabled-fill-color: #AAA;\n",
              "      --disabled-bg-color: #DDD;\n",
              "  }\n",
              "\n",
              "  [theme=dark] .colab-df-quickchart {\n",
              "      --bg-color: #3B4455;\n",
              "      --fill-color: #D2E3FC;\n",
              "      --hover-bg-color: #434B5C;\n",
              "      --hover-fill-color: #FFFFFF;\n",
              "      --disabled-bg-color: #3B4455;\n",
              "      --disabled-fill-color: #666;\n",
              "  }\n",
              "\n",
              "  .colab-df-quickchart {\n",
              "    background-color: var(--bg-color);\n",
              "    border: none;\n",
              "    border-radius: 50%;\n",
              "    cursor: pointer;\n",
              "    display: none;\n",
              "    fill: var(--fill-color);\n",
              "    height: 32px;\n",
              "    padding: 0;\n",
              "    width: 32px;\n",
              "  }\n",
              "\n",
              "  .colab-df-quickchart:hover {\n",
              "    background-color: var(--hover-bg-color);\n",
              "    box-shadow: 0 1px 2px rgba(60, 64, 67, 0.3), 0 1px 3px 1px rgba(60, 64, 67, 0.15);\n",
              "    fill: var(--button-hover-fill-color);\n",
              "  }\n",
              "\n",
              "  .colab-df-quickchart-complete:disabled,\n",
              "  .colab-df-quickchart-complete:disabled:hover {\n",
              "    background-color: var(--disabled-bg-color);\n",
              "    fill: var(--disabled-fill-color);\n",
              "    box-shadow: none;\n",
              "  }\n",
              "\n",
              "  .colab-df-spinner {\n",
              "    border: 2px solid var(--fill-color);\n",
              "    border-color: transparent;\n",
              "    border-bottom-color: var(--fill-color);\n",
              "    animation:\n",
              "      spin 1s steps(1) infinite;\n",
              "  }\n",
              "\n",
              "  @keyframes spin {\n",
              "    0% {\n",
              "      border-color: transparent;\n",
              "      border-bottom-color: var(--fill-color);\n",
              "      border-left-color: var(--fill-color);\n",
              "    }\n",
              "    20% {\n",
              "      border-color: transparent;\n",
              "      border-left-color: var(--fill-color);\n",
              "      border-top-color: var(--fill-color);\n",
              "    }\n",
              "    30% {\n",
              "      border-color: transparent;\n",
              "      border-left-color: var(--fill-color);\n",
              "      border-top-color: var(--fill-color);\n",
              "      border-right-color: var(--fill-color);\n",
              "    }\n",
              "    40% {\n",
              "      border-color: transparent;\n",
              "      border-right-color: var(--fill-color);\n",
              "      border-top-color: var(--fill-color);\n",
              "    }\n",
              "    60% {\n",
              "      border-color: transparent;\n",
              "      border-right-color: var(--fill-color);\n",
              "    }\n",
              "    80% {\n",
              "      border-color: transparent;\n",
              "      border-right-color: var(--fill-color);\n",
              "      border-bottom-color: var(--fill-color);\n",
              "    }\n",
              "    90% {\n",
              "      border-color: transparent;\n",
              "      border-bottom-color: var(--fill-color);\n",
              "    }\n",
              "  }\n",
              "</style>\n",
              "\n",
              "  <script>\n",
              "    async function quickchart(key) {\n",
              "      const quickchartButtonEl =\n",
              "        document.querySelector('#' + key + ' button');\n",
              "      quickchartButtonEl.disabled = true;  // To prevent multiple clicks.\n",
              "      quickchartButtonEl.classList.add('colab-df-spinner');\n",
              "      try {\n",
              "        const charts = await google.colab.kernel.invokeFunction(\n",
              "            'suggestCharts', [key], {});\n",
              "      } catch (error) {\n",
              "        console.error('Error during call to suggestCharts:', error);\n",
              "      }\n",
              "      quickchartButtonEl.classList.remove('colab-df-spinner');\n",
              "      quickchartButtonEl.classList.add('colab-df-quickchart-complete');\n",
              "    }\n",
              "    (() => {\n",
              "      let quickchartButtonEl =\n",
              "        document.querySelector('#df-70a6d922-6dc8-44ef-9ed9-53cdb250d986 button');\n",
              "      quickchartButtonEl.style.display =\n",
              "        google.colab.kernel.accessAllowed ? 'block' : 'none';\n",
              "    })();\n",
              "  </script>\n",
              "</div>\n",
              "    </div>\n",
              "  </div>\n"
            ]
          },
          "metadata": {},
          "execution_count": 20
        }
      ]
    },
    {
      "cell_type": "markdown",
      "source": [
        ">## <u>Missing Data"
      ],
      "metadata": {
        "id": "Nqc0uGMA9Wx2"
      }
    },
    {
      "cell_type": "code",
      "source": [
        "df.isna().sum()"
      ],
      "metadata": {
        "id": "BqvuocCjE3To",
        "colab": {
          "base_uri": "https://localhost:8080/"
        },
        "outputId": "32bf8bd9-98be-4bac-eabc-2abbe892ee2d"
      },
      "execution_count": 21,
      "outputs": [
        {
          "output_type": "execute_result",
          "data": {
            "text/plain": [
              "AGE                      0\n",
              "GENDER                   0\n",
              "RACE                     0\n",
              "DRIVING_EXPERIENCE       0\n",
              "EDUCATION                0\n",
              "INCOME                   0\n",
              "CREDIT_SCORE           982\n",
              "VEHICLE_OWNERSHIP        0\n",
              "VEHICLE_YEAR             0\n",
              "MARRIED                  0\n",
              "CHILDREN                 0\n",
              "POSTAL_CODE              0\n",
              "ANNUAL_MILEAGE         957\n",
              "VEHICLE_TYPE             0\n",
              "SPEEDING_VIOLATIONS      0\n",
              "DUIS                     0\n",
              "PAST_ACCIDENTS           0\n",
              "OUTCOME                  0\n",
              "dtype: int64"
            ]
          },
          "metadata": {},
          "execution_count": 21
        }
      ]
    },
    {
      "cell_type": "code",
      "source": [
        "# Checking features for null values\n",
        "df['CREDIT_SCORE'].isna().sum()"
      ],
      "metadata": {
        "colab": {
          "base_uri": "https://localhost:8080/"
        },
        "id": "Rq_sEeQDkfIo",
        "outputId": "89a9db57-3b2a-42bb-f618-5114b06dd528"
      },
      "execution_count": 22,
      "outputs": [
        {
          "output_type": "execute_result",
          "data": {
            "text/plain": [
              "982"
            ]
          },
          "metadata": {},
          "execution_count": 22
        }
      ]
    },
    {
      "cell_type": "code",
      "source": [
        "# Checking features for null values\n",
        "df['ANNUAL_MILEAGE'].isna().sum()"
      ],
      "metadata": {
        "colab": {
          "base_uri": "https://localhost:8080/"
        },
        "outputId": "c9f08621-1ed9-414e-e4ac-9d9166379fde",
        "id": "9ys3Y-osdKJm"
      },
      "execution_count": 23,
      "outputs": [
        {
          "output_type": "execute_result",
          "data": {
            "text/plain": [
              "957"
            ]
          },
          "metadata": {},
          "execution_count": 23
        }
      ]
    },
    {
      "cell_type": "code",
      "source": [
        "# Percent of total rows missing values\n",
        "percent_missing = (1 - df.dropna().shape[0] / df.shape[0]) * 100\n",
        "print(f'{percent_missing:.4f} percent of rows are missing at least 1 value')"
      ],
      "metadata": {
        "colab": {
          "base_uri": "https://localhost:8080/"
        },
        "outputId": "2f7cfcbf-4a1b-45ef-eff2-b2226edb363f",
        "id": "Vy1uKjcQdnnx"
      },
      "execution_count": 24,
      "outputs": [
        {
          "output_type": "stream",
          "name": "stdout",
          "text": [
            "18.5100 percent of rows are missing at least 1 value\n"
          ]
        }
      ]
    },
    {
      "cell_type": "code",
      "source": [
        "# Handle any Nan values in CREDIT_SCORE and ANNUAL_MILEAGE\n",
        "imp = SimpleImputer(missing_values=np.NaN, strategy='mean')"
      ],
      "metadata": {
        "id": "sivxJqqKewr4"
      },
      "execution_count": 25,
      "outputs": []
    },
    {
      "cell_type": "code",
      "source": [
        "# Check target for null values\n",
        "df['CREDIT_SCORE'].isna().sum()"
      ],
      "metadata": {
        "id": "Gku6Ci4QM0wv",
        "colab": {
          "base_uri": "https://localhost:8080/"
        },
        "outputId": "dd99a48b-9cea-4e54-8da9-707eb146ab0e"
      },
      "execution_count": 26,
      "outputs": [
        {
          "output_type": "execute_result",
          "data": {
            "text/plain": [
              "982"
            ]
          },
          "metadata": {},
          "execution_count": 26
        }
      ]
    },
    {
      "cell_type": "code",
      "source": [
        "# Check target for null values\n",
        "df['ANNUAL_MILEAGE'].isna().sum()"
      ],
      "metadata": {
        "colab": {
          "base_uri": "https://localhost:8080/"
        },
        "id": "P71E-_hmnwjL",
        "outputId": "d37502e1-f969-47d6-f2de-1a98d3decd1b"
      },
      "execution_count": 27,
      "outputs": [
        {
          "output_type": "execute_result",
          "data": {
            "text/plain": [
              "957"
            ]
          },
          "metadata": {},
          "execution_count": 27
        }
      ]
    },
    {
      "cell_type": "markdown",
      "source": [
        "# **EDA:**"
      ],
      "metadata": {
        "id": "UjuZGn5r5w7n"
      }
    },
    {
      "cell_type": "markdown",
      "source": [
        ">## Exploratory Visualization:"
      ],
      "metadata": {
        "id": "9YFPcx4S_JZ-"
      }
    },
    {
      "cell_type": "code",
      "source": [
        "# The target we are trying to predict\n",
        "y = df['OUTCOME']\n",
        "# The features we will use to make the prediction\n",
        "X = df.drop(columns = 'OUTCOME')\n",
        "# Split data into training and test sets\n",
        "X_train, X_test, y_train, y_test = train_test_split(X, y, random_state = 42)"
      ],
      "metadata": {
        "id": "ml7k9qF8AdKg"
      },
      "execution_count": 28,
      "outputs": []
    },
    {
      "cell_type": "code",
      "source": [
        "# Train test split\n",
        "X_train, X_test, y_train, y_test = train_test_split(X, y, random_state=42)\n",
        "X_train.head()"
      ],
      "metadata": {
        "colab": {
          "base_uri": "https://localhost:8080/",
          "height": 313
        },
        "id": "eseFoicAoGbx",
        "outputId": "f4d7f3da-07f9-4094-bbd5-014a10b416f0"
      },
      "execution_count": 29,
      "outputs": [
        {
          "output_type": "execute_result",
          "data": {
            "text/plain": [
              "        AGE  GENDER      RACE DRIVING_EXPERIENCE    EDUCATION         INCOME  \\\n",
              "4901  40-64    male  majority               0-9y  high school    upper class   \n",
              "4375  16-25  female  majority               0-9y         none        poverty   \n",
              "6698  40-64    male  majority             10-19y   university    upper class   \n",
              "9805  26-39  female  majority             10-19y   university  working class   \n",
              "1101  16-25  female  majority               0-9y         none        poverty   \n",
              "\n",
              "      CREDIT_SCORE  VEHICLE_OWNERSHIP VEHICLE_YEAR  MARRIED  CHILDREN  \\\n",
              "4901      0.694461                1.0  before 2015      1.0       1.0   \n",
              "4375      0.295794                1.0  before 2015      0.0       0.0   \n",
              "6698           NaN                1.0  before 2015      1.0       1.0   \n",
              "9805      0.454836                1.0  before 2015      0.0       0.0   \n",
              "1101      0.152972                1.0  before 2015      1.0       0.0   \n",
              "\n",
              "      POSTAL_CODE  ANNUAL_MILEAGE VEHICLE_TYPE  SPEEDING_VIOLATIONS  DUIS  \\\n",
              "4901        92101             NaN        sedan                    0     0   \n",
              "4375        32765         12000.0        sedan                    0     0   \n",
              "6698        10238             NaN        sedan                    0     0   \n",
              "9805        10238         20000.0        sedan                    2     0   \n",
              "1101        10238         10000.0        sedan                    0     0   \n",
              "\n",
              "      PAST_ACCIDENTS  \n",
              "4901               0  \n",
              "4375               0  \n",
              "6698               3  \n",
              "9805               0  \n",
              "1101               0  "
            ],
            "text/html": [
              "\n",
              "  <div id=\"df-8deae96b-64be-4d33-8020-e2f8f6876a1d\" class=\"colab-df-container\">\n",
              "    <div>\n",
              "<style scoped>\n",
              "    .dataframe tbody tr th:only-of-type {\n",
              "        vertical-align: middle;\n",
              "    }\n",
              "\n",
              "    .dataframe tbody tr th {\n",
              "        vertical-align: top;\n",
              "    }\n",
              "\n",
              "    .dataframe thead th {\n",
              "        text-align: right;\n",
              "    }\n",
              "</style>\n",
              "<table border=\"1\" class=\"dataframe\">\n",
              "  <thead>\n",
              "    <tr style=\"text-align: right;\">\n",
              "      <th></th>\n",
              "      <th>AGE</th>\n",
              "      <th>GENDER</th>\n",
              "      <th>RACE</th>\n",
              "      <th>DRIVING_EXPERIENCE</th>\n",
              "      <th>EDUCATION</th>\n",
              "      <th>INCOME</th>\n",
              "      <th>CREDIT_SCORE</th>\n",
              "      <th>VEHICLE_OWNERSHIP</th>\n",
              "      <th>VEHICLE_YEAR</th>\n",
              "      <th>MARRIED</th>\n",
              "      <th>CHILDREN</th>\n",
              "      <th>POSTAL_CODE</th>\n",
              "      <th>ANNUAL_MILEAGE</th>\n",
              "      <th>VEHICLE_TYPE</th>\n",
              "      <th>SPEEDING_VIOLATIONS</th>\n",
              "      <th>DUIS</th>\n",
              "      <th>PAST_ACCIDENTS</th>\n",
              "    </tr>\n",
              "  </thead>\n",
              "  <tbody>\n",
              "    <tr>\n",
              "      <th>4901</th>\n",
              "      <td>40-64</td>\n",
              "      <td>male</td>\n",
              "      <td>majority</td>\n",
              "      <td>0-9y</td>\n",
              "      <td>high school</td>\n",
              "      <td>upper class</td>\n",
              "      <td>0.694461</td>\n",
              "      <td>1.0</td>\n",
              "      <td>before 2015</td>\n",
              "      <td>1.0</td>\n",
              "      <td>1.0</td>\n",
              "      <td>92101</td>\n",
              "      <td>NaN</td>\n",
              "      <td>sedan</td>\n",
              "      <td>0</td>\n",
              "      <td>0</td>\n",
              "      <td>0</td>\n",
              "    </tr>\n",
              "    <tr>\n",
              "      <th>4375</th>\n",
              "      <td>16-25</td>\n",
              "      <td>female</td>\n",
              "      <td>majority</td>\n",
              "      <td>0-9y</td>\n",
              "      <td>none</td>\n",
              "      <td>poverty</td>\n",
              "      <td>0.295794</td>\n",
              "      <td>1.0</td>\n",
              "      <td>before 2015</td>\n",
              "      <td>0.0</td>\n",
              "      <td>0.0</td>\n",
              "      <td>32765</td>\n",
              "      <td>12000.0</td>\n",
              "      <td>sedan</td>\n",
              "      <td>0</td>\n",
              "      <td>0</td>\n",
              "      <td>0</td>\n",
              "    </tr>\n",
              "    <tr>\n",
              "      <th>6698</th>\n",
              "      <td>40-64</td>\n",
              "      <td>male</td>\n",
              "      <td>majority</td>\n",
              "      <td>10-19y</td>\n",
              "      <td>university</td>\n",
              "      <td>upper class</td>\n",
              "      <td>NaN</td>\n",
              "      <td>1.0</td>\n",
              "      <td>before 2015</td>\n",
              "      <td>1.0</td>\n",
              "      <td>1.0</td>\n",
              "      <td>10238</td>\n",
              "      <td>NaN</td>\n",
              "      <td>sedan</td>\n",
              "      <td>0</td>\n",
              "      <td>0</td>\n",
              "      <td>3</td>\n",
              "    </tr>\n",
              "    <tr>\n",
              "      <th>9805</th>\n",
              "      <td>26-39</td>\n",
              "      <td>female</td>\n",
              "      <td>majority</td>\n",
              "      <td>10-19y</td>\n",
              "      <td>university</td>\n",
              "      <td>working class</td>\n",
              "      <td>0.454836</td>\n",
              "      <td>1.0</td>\n",
              "      <td>before 2015</td>\n",
              "      <td>0.0</td>\n",
              "      <td>0.0</td>\n",
              "      <td>10238</td>\n",
              "      <td>20000.0</td>\n",
              "      <td>sedan</td>\n",
              "      <td>2</td>\n",
              "      <td>0</td>\n",
              "      <td>0</td>\n",
              "    </tr>\n",
              "    <tr>\n",
              "      <th>1101</th>\n",
              "      <td>16-25</td>\n",
              "      <td>female</td>\n",
              "      <td>majority</td>\n",
              "      <td>0-9y</td>\n",
              "      <td>none</td>\n",
              "      <td>poverty</td>\n",
              "      <td>0.152972</td>\n",
              "      <td>1.0</td>\n",
              "      <td>before 2015</td>\n",
              "      <td>1.0</td>\n",
              "      <td>0.0</td>\n",
              "      <td>10238</td>\n",
              "      <td>10000.0</td>\n",
              "      <td>sedan</td>\n",
              "      <td>0</td>\n",
              "      <td>0</td>\n",
              "      <td>0</td>\n",
              "    </tr>\n",
              "  </tbody>\n",
              "</table>\n",
              "</div>\n",
              "    <div class=\"colab-df-buttons\">\n",
              "\n",
              "  <div class=\"colab-df-container\">\n",
              "    <button class=\"colab-df-convert\" onclick=\"convertToInteractive('df-8deae96b-64be-4d33-8020-e2f8f6876a1d')\"\n",
              "            title=\"Convert this dataframe to an interactive table.\"\n",
              "            style=\"display:none;\">\n",
              "\n",
              "  <svg xmlns=\"http://www.w3.org/2000/svg\" height=\"24px\" viewBox=\"0 -960 960 960\">\n",
              "    <path d=\"M120-120v-720h720v720H120Zm60-500h600v-160H180v160Zm220 220h160v-160H400v160Zm0 220h160v-160H400v160ZM180-400h160v-160H180v160Zm440 0h160v-160H620v160ZM180-180h160v-160H180v160Zm440 0h160v-160H620v160Z\"/>\n",
              "  </svg>\n",
              "    </button>\n",
              "\n",
              "  <style>\n",
              "    .colab-df-container {\n",
              "      display:flex;\n",
              "      gap: 12px;\n",
              "    }\n",
              "\n",
              "    .colab-df-convert {\n",
              "      background-color: #E8F0FE;\n",
              "      border: none;\n",
              "      border-radius: 50%;\n",
              "      cursor: pointer;\n",
              "      display: none;\n",
              "      fill: #1967D2;\n",
              "      height: 32px;\n",
              "      padding: 0 0 0 0;\n",
              "      width: 32px;\n",
              "    }\n",
              "\n",
              "    .colab-df-convert:hover {\n",
              "      background-color: #E2EBFA;\n",
              "      box-shadow: 0px 1px 2px rgba(60, 64, 67, 0.3), 0px 1px 3px 1px rgba(60, 64, 67, 0.15);\n",
              "      fill: #174EA6;\n",
              "    }\n",
              "\n",
              "    .colab-df-buttons div {\n",
              "      margin-bottom: 4px;\n",
              "    }\n",
              "\n",
              "    [theme=dark] .colab-df-convert {\n",
              "      background-color: #3B4455;\n",
              "      fill: #D2E3FC;\n",
              "    }\n",
              "\n",
              "    [theme=dark] .colab-df-convert:hover {\n",
              "      background-color: #434B5C;\n",
              "      box-shadow: 0px 1px 3px 1px rgba(0, 0, 0, 0.15);\n",
              "      filter: drop-shadow(0px 1px 2px rgba(0, 0, 0, 0.3));\n",
              "      fill: #FFFFFF;\n",
              "    }\n",
              "  </style>\n",
              "\n",
              "    <script>\n",
              "      const buttonEl =\n",
              "        document.querySelector('#df-8deae96b-64be-4d33-8020-e2f8f6876a1d button.colab-df-convert');\n",
              "      buttonEl.style.display =\n",
              "        google.colab.kernel.accessAllowed ? 'block' : 'none';\n",
              "\n",
              "      async function convertToInteractive(key) {\n",
              "        const element = document.querySelector('#df-8deae96b-64be-4d33-8020-e2f8f6876a1d');\n",
              "        const dataTable =\n",
              "          await google.colab.kernel.invokeFunction('convertToInteractive',\n",
              "                                                    [key], {});\n",
              "        if (!dataTable) return;\n",
              "\n",
              "        const docLinkHtml = 'Like what you see? Visit the ' +\n",
              "          '<a target=\"_blank\" href=https://colab.research.google.com/notebooks/data_table.ipynb>data table notebook</a>'\n",
              "          + ' to learn more about interactive tables.';\n",
              "        element.innerHTML = '';\n",
              "        dataTable['output_type'] = 'display_data';\n",
              "        await google.colab.output.renderOutput(dataTable, element);\n",
              "        const docLink = document.createElement('div');\n",
              "        docLink.innerHTML = docLinkHtml;\n",
              "        element.appendChild(docLink);\n",
              "      }\n",
              "    </script>\n",
              "  </div>\n",
              "\n",
              "\n",
              "<div id=\"df-55b907ad-68fe-42b0-bd03-c76ea83eac87\">\n",
              "  <button class=\"colab-df-quickchart\" onclick=\"quickchart('df-55b907ad-68fe-42b0-bd03-c76ea83eac87')\"\n",
              "            title=\"Suggest charts.\"\n",
              "            style=\"display:none;\">\n",
              "\n",
              "<svg xmlns=\"http://www.w3.org/2000/svg\" height=\"24px\"viewBox=\"0 0 24 24\"\n",
              "     width=\"24px\">\n",
              "    <g>\n",
              "        <path d=\"M19 3H5c-1.1 0-2 .9-2 2v14c0 1.1.9 2 2 2h14c1.1 0 2-.9 2-2V5c0-1.1-.9-2-2-2zM9 17H7v-7h2v7zm4 0h-2V7h2v10zm4 0h-2v-4h2v4z\"/>\n",
              "    </g>\n",
              "</svg>\n",
              "  </button>\n",
              "\n",
              "<style>\n",
              "  .colab-df-quickchart {\n",
              "      --bg-color: #E8F0FE;\n",
              "      --fill-color: #1967D2;\n",
              "      --hover-bg-color: #E2EBFA;\n",
              "      --hover-fill-color: #174EA6;\n",
              "      --disabled-fill-color: #AAA;\n",
              "      --disabled-bg-color: #DDD;\n",
              "  }\n",
              "\n",
              "  [theme=dark] .colab-df-quickchart {\n",
              "      --bg-color: #3B4455;\n",
              "      --fill-color: #D2E3FC;\n",
              "      --hover-bg-color: #434B5C;\n",
              "      --hover-fill-color: #FFFFFF;\n",
              "      --disabled-bg-color: #3B4455;\n",
              "      --disabled-fill-color: #666;\n",
              "  }\n",
              "\n",
              "  .colab-df-quickchart {\n",
              "    background-color: var(--bg-color);\n",
              "    border: none;\n",
              "    border-radius: 50%;\n",
              "    cursor: pointer;\n",
              "    display: none;\n",
              "    fill: var(--fill-color);\n",
              "    height: 32px;\n",
              "    padding: 0;\n",
              "    width: 32px;\n",
              "  }\n",
              "\n",
              "  .colab-df-quickchart:hover {\n",
              "    background-color: var(--hover-bg-color);\n",
              "    box-shadow: 0 1px 2px rgba(60, 64, 67, 0.3), 0 1px 3px 1px rgba(60, 64, 67, 0.15);\n",
              "    fill: var(--button-hover-fill-color);\n",
              "  }\n",
              "\n",
              "  .colab-df-quickchart-complete:disabled,\n",
              "  .colab-df-quickchart-complete:disabled:hover {\n",
              "    background-color: var(--disabled-bg-color);\n",
              "    fill: var(--disabled-fill-color);\n",
              "    box-shadow: none;\n",
              "  }\n",
              "\n",
              "  .colab-df-spinner {\n",
              "    border: 2px solid var(--fill-color);\n",
              "    border-color: transparent;\n",
              "    border-bottom-color: var(--fill-color);\n",
              "    animation:\n",
              "      spin 1s steps(1) infinite;\n",
              "  }\n",
              "\n",
              "  @keyframes spin {\n",
              "    0% {\n",
              "      border-color: transparent;\n",
              "      border-bottom-color: var(--fill-color);\n",
              "      border-left-color: var(--fill-color);\n",
              "    }\n",
              "    20% {\n",
              "      border-color: transparent;\n",
              "      border-left-color: var(--fill-color);\n",
              "      border-top-color: var(--fill-color);\n",
              "    }\n",
              "    30% {\n",
              "      border-color: transparent;\n",
              "      border-left-color: var(--fill-color);\n",
              "      border-top-color: var(--fill-color);\n",
              "      border-right-color: var(--fill-color);\n",
              "    }\n",
              "    40% {\n",
              "      border-color: transparent;\n",
              "      border-right-color: var(--fill-color);\n",
              "      border-top-color: var(--fill-color);\n",
              "    }\n",
              "    60% {\n",
              "      border-color: transparent;\n",
              "      border-right-color: var(--fill-color);\n",
              "    }\n",
              "    80% {\n",
              "      border-color: transparent;\n",
              "      border-right-color: var(--fill-color);\n",
              "      border-bottom-color: var(--fill-color);\n",
              "    }\n",
              "    90% {\n",
              "      border-color: transparent;\n",
              "      border-bottom-color: var(--fill-color);\n",
              "    }\n",
              "  }\n",
              "</style>\n",
              "\n",
              "  <script>\n",
              "    async function quickchart(key) {\n",
              "      const quickchartButtonEl =\n",
              "        document.querySelector('#' + key + ' button');\n",
              "      quickchartButtonEl.disabled = true;  // To prevent multiple clicks.\n",
              "      quickchartButtonEl.classList.add('colab-df-spinner');\n",
              "      try {\n",
              "        const charts = await google.colab.kernel.invokeFunction(\n",
              "            'suggestCharts', [key], {});\n",
              "      } catch (error) {\n",
              "        console.error('Error during call to suggestCharts:', error);\n",
              "      }\n",
              "      quickchartButtonEl.classList.remove('colab-df-spinner');\n",
              "      quickchartButtonEl.classList.add('colab-df-quickchart-complete');\n",
              "    }\n",
              "    (() => {\n",
              "      let quickchartButtonEl =\n",
              "        document.querySelector('#df-55b907ad-68fe-42b0-bd03-c76ea83eac87 button');\n",
              "      quickchartButtonEl.style.display =\n",
              "        google.colab.kernel.accessAllowed ? 'block' : 'none';\n",
              "    })();\n",
              "  </script>\n",
              "</div>\n",
              "    </div>\n",
              "  </div>\n"
            ]
          },
          "metadata": {},
          "execution_count": 29
        }
      ]
    },
    {
      "cell_type": "markdown",
      "source": [
        "<u>**Preprocessing:**"
      ],
      "metadata": {
        "id": "aZl51Xr5nEqe"
      }
    },
    {
      "cell_type": "markdown",
      "source": [
        "**Numerical Preprocessing Pipeline**"
      ],
      "metadata": {
        "id": "rrU8g2mgRKRb"
      }
    },
    {
      "cell_type": "code",
      "source": [
        "# Numerical Prepprocessing Pipeline\n",
        "# Save list of column names\n",
        "num_cols = X_train.select_dtypes(\"number\").columns\n",
        "print(\"Numeric Columns:\", num_cols)\n",
        "# instantiate preprocessors\n",
        "impute_median = SimpleImputer(strategy='median')\n",
        "scaler = StandardScaler()\n",
        "# Make a numeric preprocessing pipeline\n",
        "num_pipe = make_pipeline(impute_median, scaler)\n",
        "# Making a numeric tuple for ColumnTransformer\n",
        "num_tuple = ('numeric', num_pipe, num_cols)"
      ],
      "metadata": {
        "colab": {
          "base_uri": "https://localhost:8080/"
        },
        "id": "--xMCoNhRM_a",
        "outputId": "c3bc7fb2-8e9d-4769-cd76-de8c99b18a18"
      },
      "execution_count": 30,
      "outputs": [
        {
          "output_type": "stream",
          "name": "stdout",
          "text": [
            "Numeric Columns: Index(['CREDIT_SCORE', 'VEHICLE_OWNERSHIP', 'MARRIED', 'CHILDREN',\n",
            "       'POSTAL_CODE', 'ANNUAL_MILEAGE', 'SPEEDING_VIOLATIONS', 'DUIS',\n",
            "       'PAST_ACCIDENTS'],\n",
            "      dtype='object')\n"
          ]
        }
      ]
    },
    {
      "cell_type": "markdown",
      "source": [
        "**Create the Column Transformer**"
      ],
      "metadata": {
        "id": "9GVOp2w0RWaK"
      }
    },
    {
      "cell_type": "code",
      "source": [
        "# Create the preprocessing ColumnTransformer\n",
        "preprocessor = ColumnTransformer([num_tuple], verbose_feature_names_out=False)\n",
        "preprocessor"
      ],
      "metadata": {
        "colab": {
          "base_uri": "https://localhost:8080/",
          "height": 152
        },
        "id": "zAB0VWmpnP7v",
        "outputId": "d3f64fb3-2ab4-4af8-cf77-1fc0c39f849e"
      },
      "execution_count": 31,
      "outputs": [
        {
          "output_type": "execute_result",
          "data": {
            "text/plain": [
              "ColumnTransformer(transformers=[('numeric',\n",
              "                                 Pipeline(steps=[('simpleimputer',\n",
              "                                                  SimpleImputer(strategy='median')),\n",
              "                                                 ('standardscaler',\n",
              "                                                  StandardScaler())]),\n",
              "                                 Index(['CREDIT_SCORE', 'VEHICLE_OWNERSHIP', 'MARRIED', 'CHILDREN',\n",
              "       'POSTAL_CODE', 'ANNUAL_MILEAGE', 'SPEEDING_VIOLATIONS', 'DUIS',\n",
              "       'PAST_ACCIDENTS'],\n",
              "      dtype='object'))],\n",
              "                  verbose_feature_names_out=False)"
            ],
            "text/html": [
              "<style>#sk-container-id-1 {color: black;background-color: white;}#sk-container-id-1 pre{padding: 0;}#sk-container-id-1 div.sk-toggleable {background-color: white;}#sk-container-id-1 label.sk-toggleable__label {cursor: pointer;display: block;width: 100%;margin-bottom: 0;padding: 0.3em;box-sizing: border-box;text-align: center;}#sk-container-id-1 label.sk-toggleable__label-arrow:before {content: \"▸\";float: left;margin-right: 0.25em;color: #696969;}#sk-container-id-1 label.sk-toggleable__label-arrow:hover:before {color: black;}#sk-container-id-1 div.sk-estimator:hover label.sk-toggleable__label-arrow:before {color: black;}#sk-container-id-1 div.sk-toggleable__content {max-height: 0;max-width: 0;overflow: hidden;text-align: left;background-color: #f0f8ff;}#sk-container-id-1 div.sk-toggleable__content pre {margin: 0.2em;color: black;border-radius: 0.25em;background-color: #f0f8ff;}#sk-container-id-1 input.sk-toggleable__control:checked~div.sk-toggleable__content {max-height: 200px;max-width: 100%;overflow: auto;}#sk-container-id-1 input.sk-toggleable__control:checked~label.sk-toggleable__label-arrow:before {content: \"▾\";}#sk-container-id-1 div.sk-estimator input.sk-toggleable__control:checked~label.sk-toggleable__label {background-color: #d4ebff;}#sk-container-id-1 div.sk-label input.sk-toggleable__control:checked~label.sk-toggleable__label {background-color: #d4ebff;}#sk-container-id-1 input.sk-hidden--visually {border: 0;clip: rect(1px 1px 1px 1px);clip: rect(1px, 1px, 1px, 1px);height: 1px;margin: -1px;overflow: hidden;padding: 0;position: absolute;width: 1px;}#sk-container-id-1 div.sk-estimator {font-family: monospace;background-color: #f0f8ff;border: 1px dotted black;border-radius: 0.25em;box-sizing: border-box;margin-bottom: 0.5em;}#sk-container-id-1 div.sk-estimator:hover {background-color: #d4ebff;}#sk-container-id-1 div.sk-parallel-item::after {content: \"\";width: 100%;border-bottom: 1px solid gray;flex-grow: 1;}#sk-container-id-1 div.sk-label:hover label.sk-toggleable__label {background-color: #d4ebff;}#sk-container-id-1 div.sk-serial::before {content: \"\";position: absolute;border-left: 1px solid gray;box-sizing: border-box;top: 0;bottom: 0;left: 50%;z-index: 0;}#sk-container-id-1 div.sk-serial {display: flex;flex-direction: column;align-items: center;background-color: white;padding-right: 0.2em;padding-left: 0.2em;position: relative;}#sk-container-id-1 div.sk-item {position: relative;z-index: 1;}#sk-container-id-1 div.sk-parallel {display: flex;align-items: stretch;justify-content: center;background-color: white;position: relative;}#sk-container-id-1 div.sk-item::before, #sk-container-id-1 div.sk-parallel-item::before {content: \"\";position: absolute;border-left: 1px solid gray;box-sizing: border-box;top: 0;bottom: 0;left: 50%;z-index: -1;}#sk-container-id-1 div.sk-parallel-item {display: flex;flex-direction: column;z-index: 1;position: relative;background-color: white;}#sk-container-id-1 div.sk-parallel-item:first-child::after {align-self: flex-end;width: 50%;}#sk-container-id-1 div.sk-parallel-item:last-child::after {align-self: flex-start;width: 50%;}#sk-container-id-1 div.sk-parallel-item:only-child::after {width: 0;}#sk-container-id-1 div.sk-dashed-wrapped {border: 1px dashed gray;margin: 0 0.4em 0.5em 0.4em;box-sizing: border-box;padding-bottom: 0.4em;background-color: white;}#sk-container-id-1 div.sk-label label {font-family: monospace;font-weight: bold;display: inline-block;line-height: 1.2em;}#sk-container-id-1 div.sk-label-container {text-align: center;}#sk-container-id-1 div.sk-container {/* jupyter's `normalize.less` sets `[hidden] { display: none; }` but bootstrap.min.css set `[hidden] { display: none !important; }` so we also need the `!important` here to be able to override the default hidden behavior on the sphinx rendered scikit-learn.org. See: https://github.com/scikit-learn/scikit-learn/issues/21755 */display: inline-block !important;position: relative;}#sk-container-id-1 div.sk-text-repr-fallback {display: none;}</style><div id=\"sk-container-id-1\" class=\"sk-top-container\"><div class=\"sk-text-repr-fallback\"><pre>ColumnTransformer(transformers=[(&#x27;numeric&#x27;,\n",
              "                                 Pipeline(steps=[(&#x27;simpleimputer&#x27;,\n",
              "                                                  SimpleImputer(strategy=&#x27;median&#x27;)),\n",
              "                                                 (&#x27;standardscaler&#x27;,\n",
              "                                                  StandardScaler())]),\n",
              "                                 Index([&#x27;CREDIT_SCORE&#x27;, &#x27;VEHICLE_OWNERSHIP&#x27;, &#x27;MARRIED&#x27;, &#x27;CHILDREN&#x27;,\n",
              "       &#x27;POSTAL_CODE&#x27;, &#x27;ANNUAL_MILEAGE&#x27;, &#x27;SPEEDING_VIOLATIONS&#x27;, &#x27;DUIS&#x27;,\n",
              "       &#x27;PAST_ACCIDENTS&#x27;],\n",
              "      dtype=&#x27;object&#x27;))],\n",
              "                  verbose_feature_names_out=False)</pre><b>In a Jupyter environment, please rerun this cell to show the HTML representation or trust the notebook. <br />On GitHub, the HTML representation is unable to render, please try loading this page with nbviewer.org.</b></div><div class=\"sk-container\" hidden><div class=\"sk-item sk-dashed-wrapped\"><div class=\"sk-label-container\"><div class=\"sk-label sk-toggleable\"><input class=\"sk-toggleable__control sk-hidden--visually\" id=\"sk-estimator-id-1\" type=\"checkbox\" ><label for=\"sk-estimator-id-1\" class=\"sk-toggleable__label sk-toggleable__label-arrow\">ColumnTransformer</label><div class=\"sk-toggleable__content\"><pre>ColumnTransformer(transformers=[(&#x27;numeric&#x27;,\n",
              "                                 Pipeline(steps=[(&#x27;simpleimputer&#x27;,\n",
              "                                                  SimpleImputer(strategy=&#x27;median&#x27;)),\n",
              "                                                 (&#x27;standardscaler&#x27;,\n",
              "                                                  StandardScaler())]),\n",
              "                                 Index([&#x27;CREDIT_SCORE&#x27;, &#x27;VEHICLE_OWNERSHIP&#x27;, &#x27;MARRIED&#x27;, &#x27;CHILDREN&#x27;,\n",
              "       &#x27;POSTAL_CODE&#x27;, &#x27;ANNUAL_MILEAGE&#x27;, &#x27;SPEEDING_VIOLATIONS&#x27;, &#x27;DUIS&#x27;,\n",
              "       &#x27;PAST_ACCIDENTS&#x27;],\n",
              "      dtype=&#x27;object&#x27;))],\n",
              "                  verbose_feature_names_out=False)</pre></div></div></div><div class=\"sk-parallel\"><div class=\"sk-parallel-item\"><div class=\"sk-item\"><div class=\"sk-label-container\"><div class=\"sk-label sk-toggleable\"><input class=\"sk-toggleable__control sk-hidden--visually\" id=\"sk-estimator-id-2\" type=\"checkbox\" ><label for=\"sk-estimator-id-2\" class=\"sk-toggleable__label sk-toggleable__label-arrow\">numeric</label><div class=\"sk-toggleable__content\"><pre>Index([&#x27;CREDIT_SCORE&#x27;, &#x27;VEHICLE_OWNERSHIP&#x27;, &#x27;MARRIED&#x27;, &#x27;CHILDREN&#x27;,\n",
              "       &#x27;POSTAL_CODE&#x27;, &#x27;ANNUAL_MILEAGE&#x27;, &#x27;SPEEDING_VIOLATIONS&#x27;, &#x27;DUIS&#x27;,\n",
              "       &#x27;PAST_ACCIDENTS&#x27;],\n",
              "      dtype=&#x27;object&#x27;)</pre></div></div></div><div class=\"sk-serial\"><div class=\"sk-item\"><div class=\"sk-serial\"><div class=\"sk-item\"><div class=\"sk-estimator sk-toggleable\"><input class=\"sk-toggleable__control sk-hidden--visually\" id=\"sk-estimator-id-3\" type=\"checkbox\" ><label for=\"sk-estimator-id-3\" class=\"sk-toggleable__label sk-toggleable__label-arrow\">SimpleImputer</label><div class=\"sk-toggleable__content\"><pre>SimpleImputer(strategy=&#x27;median&#x27;)</pre></div></div></div><div class=\"sk-item\"><div class=\"sk-estimator sk-toggleable\"><input class=\"sk-toggleable__control sk-hidden--visually\" id=\"sk-estimator-id-4\" type=\"checkbox\" ><label for=\"sk-estimator-id-4\" class=\"sk-toggleable__label sk-toggleable__label-arrow\">StandardScaler</label><div class=\"sk-toggleable__content\"><pre>StandardScaler()</pre></div></div></div></div></div></div></div></div></div></div></div></div>"
            ]
          },
          "metadata": {},
          "execution_count": 31
        }
      ]
    },
    {
      "cell_type": "markdown",
      "source": [
        ">## Explanatory Visualization:"
      ],
      "metadata": {
        "id": "JnZOMwu-_X6G"
      }
    },
    {
      "cell_type": "code",
      "source": [
        "# Replacing int target with string labels\n",
        "target_map = {1:\"Customer Claimed Loans\", 0:'Not Claimed'}\n",
        "df['OUTCOME'] = df['OUTCOME'].replace(target_map)\n",
        "df['OUTCOME'].value_counts(dropna=False)"
      ],
      "metadata": {
        "colab": {
          "base_uri": "https://localhost:8080/"
        },
        "id": "gahC6XSutLjY",
        "outputId": "d0b3e4c5-77d9-47ab-e256-90eeb5d51641"
      },
      "execution_count": 33,
      "outputs": [
        {
          "output_type": "execute_result",
          "data": {
            "text/plain": [
              "Not Claimed               6867\n",
              "Customer Claimed Loans    3133\n",
              "Name: OUTCOME, dtype: int64"
            ]
          },
          "metadata": {},
          "execution_count": 33
        }
      ]
    },
    {
      "cell_type": "code",
      "source": [
        "# Check how many samples of each class are present\n",
        "df['OUTCOME'].value_counts(normalize=True)"
      ],
      "metadata": {
        "colab": {
          "base_uri": "https://localhost:8080/"
        },
        "id": "8ensL_6nrAJO",
        "outputId": "e4b12bee-d13e-44a7-cd79-0c406e11be41"
      },
      "execution_count": 34,
      "outputs": [
        {
          "output_type": "execute_result",
          "data": {
            "text/plain": [
              "Not Claimed               0.6867\n",
              "Customer Claimed Loans    0.3133\n",
              "Name: OUTCOME, dtype: float64"
            ]
          },
          "metadata": {},
          "execution_count": 34
        }
      ]
    },
    {
      "cell_type": "markdown",
      "source": [
        "**Split the Data**"
      ],
      "metadata": {
        "id": "xWfuPSGCsGLx"
      }
    },
    {
      "cell_type": "code",
      "source": [
        "# Split the dataset\n",
        "X_train, X_test, y_train, y_test = train_test_split(X, y, stratify=y, random_state=42)"
      ],
      "metadata": {
        "id": "wYlniZGB3ND-"
      },
      "execution_count": 35,
      "outputs": []
    },
    {
      "cell_type": "markdown",
      "source": [
        "**Class Balance**"
      ],
      "metadata": {
        "id": "xCq3Erxqse9T"
      }
    },
    {
      "cell_type": "code",
      "metadata": {
        "id": "SvilIv4egyHT",
        "colab": {
          "base_uri": "https://localhost:8080/"
        },
        "outputId": "d97504ca-f2a9-4c64-fe54-08b621596d53"
      },
      "source": [
        "# Check how many samples of each class are present for train\n",
        "y_train.value_counts(normalize=True)"
      ],
      "execution_count": 36,
      "outputs": [
        {
          "output_type": "execute_result",
          "data": {
            "text/plain": [
              "0.0    0.686667\n",
              "1.0    0.313333\n",
              "Name: OUTCOME, dtype: float64"
            ]
          },
          "metadata": {},
          "execution_count": 36
        }
      ]
    },
    {
      "cell_type": "markdown",
      "source": [
        ">> <u>Feature 1:"
      ],
      "metadata": {
        "id": "IlXlO263_dD8"
      }
    },
    {
      "cell_type": "markdown",
      "source": [
        "**Recreating Numerical Preprocessing Pipeline**\n",
        "`(following classification Core Metrics)`"
      ],
      "metadata": {
        "id": "Nq1Kr4NbjhN4"
      }
    },
    {
      "cell_type": "code",
      "source": [
        "# Numerical Prepprocessing Pipeline\n",
        "# Save list of column names\n",
        "num_cols = X_train.select_dtypes(\"number\").columns\n",
        "print(\"Numeric Columns:\", num_cols)\n",
        "# instantiate preprocessors\n",
        "impute_median = SimpleImputer(strategy='median')\n",
        "scaler = StandardScaler()\n",
        "# Make a numeric preprocessing pipeline\n",
        "num_pipe = make_pipeline(impute_median, scaler)\n",
        "# Making a numeric tuple for ColumnTransformer\n",
        "num_tuple = ('numeric', num_pipe, num_cols)"
      ],
      "metadata": {
        "colab": {
          "base_uri": "https://localhost:8080/"
        },
        "outputId": "b9acc786-6e57-412f-8a8f-677633388eb5",
        "id": "8JUL05_Qjrdf"
      },
      "execution_count": 37,
      "outputs": [
        {
          "output_type": "stream",
          "name": "stdout",
          "text": [
            "Numeric Columns: Index(['CREDIT_SCORE', 'VEHICLE_OWNERSHIP', 'MARRIED', 'CHILDREN',\n",
            "       'POSTAL_CODE', 'ANNUAL_MILEAGE', 'SPEEDING_VIOLATIONS', 'DUIS',\n",
            "       'PAST_ACCIDENTS'],\n",
            "      dtype='object')\n"
          ]
        }
      ]
    },
    {
      "cell_type": "markdown",
      "source": [
        "**Recreating the Column Transformer** `(core classification metrics)`"
      ],
      "metadata": {
        "id": "biggexpwj74k"
      }
    },
    {
      "cell_type": "code",
      "source": [
        "# Create the Column Transformer\n",
        "preprocessor = ColumnTransformer([num_tuple], verbose_feature_names_out=False)"
      ],
      "metadata": {
        "id": "Lo0FgzXfRZVI"
      },
      "execution_count": 39,
      "outputs": []
    },
    {
      "cell_type": "code",
      "source": [
        "# Instantiate the transformers\n",
        "scaler = StandardScaler()\n",
        "ohe = OneHotEncoder(handle_unknown='ignore', sparse_output=False)"
      ],
      "metadata": {
        "id": "sP20FiX64Tp6"
      },
      "execution_count": 40,
      "outputs": []
    },
    {
      "cell_type": "markdown",
      "source": [
        ">> <u>Feature 2:"
      ],
      "metadata": {
        "id": "hCNbYume_rk_"
      }
    },
    {
      "cell_type": "markdown",
      "source": [
        "**RandomForestClassifer (rfc) Model**"
      ],
      "metadata": {
        "id": "-3OFWKBOmAlr"
      }
    },
    {
      "cell_type": "code",
      "source": [
        "# Instantiate a random forest classififer\n",
        "rfc = RandomForestClassifier(random_state = 42)\n",
        "# Make a pipeline to scale the data and fit a model\n",
        "random_forest_pipe = make_pipeline(preprocessor, rfc)\n",
        "# Fit the model on the training data\n",
        "random_forest_pipe.fit(X_train, y_train)"
      ],
      "metadata": {
        "colab": {
          "base_uri": "https://localhost:8080/",
          "height": 226
        },
        "id": "elnon-6klX98",
        "outputId": "692e39b5-c1da-46ed-f0e5-c028bebe4278"
      },
      "execution_count": 41,
      "outputs": [
        {
          "output_type": "execute_result",
          "data": {
            "text/plain": [
              "Pipeline(steps=[('columntransformer',\n",
              "                 ColumnTransformer(transformers=[('numeric',\n",
              "                                                  Pipeline(steps=[('simpleimputer',\n",
              "                                                                   SimpleImputer(strategy='median')),\n",
              "                                                                  ('standardscaler',\n",
              "                                                                   StandardScaler())]),\n",
              "                                                  Index(['CREDIT_SCORE', 'VEHICLE_OWNERSHIP', 'MARRIED', 'CHILDREN',\n",
              "       'POSTAL_CODE', 'ANNUAL_MILEAGE', 'SPEEDING_VIOLATIONS', 'DUIS',\n",
              "       'PAST_ACCIDENTS'],\n",
              "      dtype='object'))],\n",
              "                                   verbose_feature_names_out=False)),\n",
              "                ('randomforestclassifier',\n",
              "                 RandomForestClassifier(random_state=42))])"
            ],
            "text/html": [
              "<style>#sk-container-id-2 {color: black;background-color: white;}#sk-container-id-2 pre{padding: 0;}#sk-container-id-2 div.sk-toggleable {background-color: white;}#sk-container-id-2 label.sk-toggleable__label {cursor: pointer;display: block;width: 100%;margin-bottom: 0;padding: 0.3em;box-sizing: border-box;text-align: center;}#sk-container-id-2 label.sk-toggleable__label-arrow:before {content: \"▸\";float: left;margin-right: 0.25em;color: #696969;}#sk-container-id-2 label.sk-toggleable__label-arrow:hover:before {color: black;}#sk-container-id-2 div.sk-estimator:hover label.sk-toggleable__label-arrow:before {color: black;}#sk-container-id-2 div.sk-toggleable__content {max-height: 0;max-width: 0;overflow: hidden;text-align: left;background-color: #f0f8ff;}#sk-container-id-2 div.sk-toggleable__content pre {margin: 0.2em;color: black;border-radius: 0.25em;background-color: #f0f8ff;}#sk-container-id-2 input.sk-toggleable__control:checked~div.sk-toggleable__content {max-height: 200px;max-width: 100%;overflow: auto;}#sk-container-id-2 input.sk-toggleable__control:checked~label.sk-toggleable__label-arrow:before {content: \"▾\";}#sk-container-id-2 div.sk-estimator input.sk-toggleable__control:checked~label.sk-toggleable__label {background-color: #d4ebff;}#sk-container-id-2 div.sk-label input.sk-toggleable__control:checked~label.sk-toggleable__label {background-color: #d4ebff;}#sk-container-id-2 input.sk-hidden--visually {border: 0;clip: rect(1px 1px 1px 1px);clip: rect(1px, 1px, 1px, 1px);height: 1px;margin: -1px;overflow: hidden;padding: 0;position: absolute;width: 1px;}#sk-container-id-2 div.sk-estimator {font-family: monospace;background-color: #f0f8ff;border: 1px dotted black;border-radius: 0.25em;box-sizing: border-box;margin-bottom: 0.5em;}#sk-container-id-2 div.sk-estimator:hover {background-color: #d4ebff;}#sk-container-id-2 div.sk-parallel-item::after {content: \"\";width: 100%;border-bottom: 1px solid gray;flex-grow: 1;}#sk-container-id-2 div.sk-label:hover label.sk-toggleable__label {background-color: #d4ebff;}#sk-container-id-2 div.sk-serial::before {content: \"\";position: absolute;border-left: 1px solid gray;box-sizing: border-box;top: 0;bottom: 0;left: 50%;z-index: 0;}#sk-container-id-2 div.sk-serial {display: flex;flex-direction: column;align-items: center;background-color: white;padding-right: 0.2em;padding-left: 0.2em;position: relative;}#sk-container-id-2 div.sk-item {position: relative;z-index: 1;}#sk-container-id-2 div.sk-parallel {display: flex;align-items: stretch;justify-content: center;background-color: white;position: relative;}#sk-container-id-2 div.sk-item::before, #sk-container-id-2 div.sk-parallel-item::before {content: \"\";position: absolute;border-left: 1px solid gray;box-sizing: border-box;top: 0;bottom: 0;left: 50%;z-index: -1;}#sk-container-id-2 div.sk-parallel-item {display: flex;flex-direction: column;z-index: 1;position: relative;background-color: white;}#sk-container-id-2 div.sk-parallel-item:first-child::after {align-self: flex-end;width: 50%;}#sk-container-id-2 div.sk-parallel-item:last-child::after {align-self: flex-start;width: 50%;}#sk-container-id-2 div.sk-parallel-item:only-child::after {width: 0;}#sk-container-id-2 div.sk-dashed-wrapped {border: 1px dashed gray;margin: 0 0.4em 0.5em 0.4em;box-sizing: border-box;padding-bottom: 0.4em;background-color: white;}#sk-container-id-2 div.sk-label label {font-family: monospace;font-weight: bold;display: inline-block;line-height: 1.2em;}#sk-container-id-2 div.sk-label-container {text-align: center;}#sk-container-id-2 div.sk-container {/* jupyter's `normalize.less` sets `[hidden] { display: none; }` but bootstrap.min.css set `[hidden] { display: none !important; }` so we also need the `!important` here to be able to override the default hidden behavior on the sphinx rendered scikit-learn.org. See: https://github.com/scikit-learn/scikit-learn/issues/21755 */display: inline-block !important;position: relative;}#sk-container-id-2 div.sk-text-repr-fallback {display: none;}</style><div id=\"sk-container-id-2\" class=\"sk-top-container\"><div class=\"sk-text-repr-fallback\"><pre>Pipeline(steps=[(&#x27;columntransformer&#x27;,\n",
              "                 ColumnTransformer(transformers=[(&#x27;numeric&#x27;,\n",
              "                                                  Pipeline(steps=[(&#x27;simpleimputer&#x27;,\n",
              "                                                                   SimpleImputer(strategy=&#x27;median&#x27;)),\n",
              "                                                                  (&#x27;standardscaler&#x27;,\n",
              "                                                                   StandardScaler())]),\n",
              "                                                  Index([&#x27;CREDIT_SCORE&#x27;, &#x27;VEHICLE_OWNERSHIP&#x27;, &#x27;MARRIED&#x27;, &#x27;CHILDREN&#x27;,\n",
              "       &#x27;POSTAL_CODE&#x27;, &#x27;ANNUAL_MILEAGE&#x27;, &#x27;SPEEDING_VIOLATIONS&#x27;, &#x27;DUIS&#x27;,\n",
              "       &#x27;PAST_ACCIDENTS&#x27;],\n",
              "      dtype=&#x27;object&#x27;))],\n",
              "                                   verbose_feature_names_out=False)),\n",
              "                (&#x27;randomforestclassifier&#x27;,\n",
              "                 RandomForestClassifier(random_state=42))])</pre><b>In a Jupyter environment, please rerun this cell to show the HTML representation or trust the notebook. <br />On GitHub, the HTML representation is unable to render, please try loading this page with nbviewer.org.</b></div><div class=\"sk-container\" hidden><div class=\"sk-item sk-dashed-wrapped\"><div class=\"sk-label-container\"><div class=\"sk-label sk-toggleable\"><input class=\"sk-toggleable__control sk-hidden--visually\" id=\"sk-estimator-id-5\" type=\"checkbox\" ><label for=\"sk-estimator-id-5\" class=\"sk-toggleable__label sk-toggleable__label-arrow\">Pipeline</label><div class=\"sk-toggleable__content\"><pre>Pipeline(steps=[(&#x27;columntransformer&#x27;,\n",
              "                 ColumnTransformer(transformers=[(&#x27;numeric&#x27;,\n",
              "                                                  Pipeline(steps=[(&#x27;simpleimputer&#x27;,\n",
              "                                                                   SimpleImputer(strategy=&#x27;median&#x27;)),\n",
              "                                                                  (&#x27;standardscaler&#x27;,\n",
              "                                                                   StandardScaler())]),\n",
              "                                                  Index([&#x27;CREDIT_SCORE&#x27;, &#x27;VEHICLE_OWNERSHIP&#x27;, &#x27;MARRIED&#x27;, &#x27;CHILDREN&#x27;,\n",
              "       &#x27;POSTAL_CODE&#x27;, &#x27;ANNUAL_MILEAGE&#x27;, &#x27;SPEEDING_VIOLATIONS&#x27;, &#x27;DUIS&#x27;,\n",
              "       &#x27;PAST_ACCIDENTS&#x27;],\n",
              "      dtype=&#x27;object&#x27;))],\n",
              "                                   verbose_feature_names_out=False)),\n",
              "                (&#x27;randomforestclassifier&#x27;,\n",
              "                 RandomForestClassifier(random_state=42))])</pre></div></div></div><div class=\"sk-serial\"><div class=\"sk-item sk-dashed-wrapped\"><div class=\"sk-label-container\"><div class=\"sk-label sk-toggleable\"><input class=\"sk-toggleable__control sk-hidden--visually\" id=\"sk-estimator-id-6\" type=\"checkbox\" ><label for=\"sk-estimator-id-6\" class=\"sk-toggleable__label sk-toggleable__label-arrow\">columntransformer: ColumnTransformer</label><div class=\"sk-toggleable__content\"><pre>ColumnTransformer(transformers=[(&#x27;numeric&#x27;,\n",
              "                                 Pipeline(steps=[(&#x27;simpleimputer&#x27;,\n",
              "                                                  SimpleImputer(strategy=&#x27;median&#x27;)),\n",
              "                                                 (&#x27;standardscaler&#x27;,\n",
              "                                                  StandardScaler())]),\n",
              "                                 Index([&#x27;CREDIT_SCORE&#x27;, &#x27;VEHICLE_OWNERSHIP&#x27;, &#x27;MARRIED&#x27;, &#x27;CHILDREN&#x27;,\n",
              "       &#x27;POSTAL_CODE&#x27;, &#x27;ANNUAL_MILEAGE&#x27;, &#x27;SPEEDING_VIOLATIONS&#x27;, &#x27;DUIS&#x27;,\n",
              "       &#x27;PAST_ACCIDENTS&#x27;],\n",
              "      dtype=&#x27;object&#x27;))],\n",
              "                  verbose_feature_names_out=False)</pre></div></div></div><div class=\"sk-parallel\"><div class=\"sk-parallel-item\"><div class=\"sk-item\"><div class=\"sk-label-container\"><div class=\"sk-label sk-toggleable\"><input class=\"sk-toggleable__control sk-hidden--visually\" id=\"sk-estimator-id-7\" type=\"checkbox\" ><label for=\"sk-estimator-id-7\" class=\"sk-toggleable__label sk-toggleable__label-arrow\">numeric</label><div class=\"sk-toggleable__content\"><pre>Index([&#x27;CREDIT_SCORE&#x27;, &#x27;VEHICLE_OWNERSHIP&#x27;, &#x27;MARRIED&#x27;, &#x27;CHILDREN&#x27;,\n",
              "       &#x27;POSTAL_CODE&#x27;, &#x27;ANNUAL_MILEAGE&#x27;, &#x27;SPEEDING_VIOLATIONS&#x27;, &#x27;DUIS&#x27;,\n",
              "       &#x27;PAST_ACCIDENTS&#x27;],\n",
              "      dtype=&#x27;object&#x27;)</pre></div></div></div><div class=\"sk-serial\"><div class=\"sk-item\"><div class=\"sk-serial\"><div class=\"sk-item\"><div class=\"sk-estimator sk-toggleable\"><input class=\"sk-toggleable__control sk-hidden--visually\" id=\"sk-estimator-id-8\" type=\"checkbox\" ><label for=\"sk-estimator-id-8\" class=\"sk-toggleable__label sk-toggleable__label-arrow\">SimpleImputer</label><div class=\"sk-toggleable__content\"><pre>SimpleImputer(strategy=&#x27;median&#x27;)</pre></div></div></div><div class=\"sk-item\"><div class=\"sk-estimator sk-toggleable\"><input class=\"sk-toggleable__control sk-hidden--visually\" id=\"sk-estimator-id-9\" type=\"checkbox\" ><label for=\"sk-estimator-id-9\" class=\"sk-toggleable__label sk-toggleable__label-arrow\">StandardScaler</label><div class=\"sk-toggleable__content\"><pre>StandardScaler()</pre></div></div></div></div></div></div></div></div></div></div><div class=\"sk-item\"><div class=\"sk-estimator sk-toggleable\"><input class=\"sk-toggleable__control sk-hidden--visually\" id=\"sk-estimator-id-10\" type=\"checkbox\" ><label for=\"sk-estimator-id-10\" class=\"sk-toggleable__label sk-toggleable__label-arrow\">RandomForestClassifier</label><div class=\"sk-toggleable__content\"><pre>RandomForestClassifier(random_state=42)</pre></div></div></div></div></div></div></div>"
            ]
          },
          "metadata": {},
          "execution_count": 41
        }
      ]
    },
    {
      "cell_type": "code",
      "source": [
        "# Define the predicted values\n",
        "y_pred_train = random_forest_pipe.predict(X_train)\n",
        "y_pred_test = random_forest_pipe.predict(X_test)\n",
        "# Obtain the accuracy score\n",
        "train_acc = accuracy_score(y_pred_train, y_train).round(3)\n",
        "test_acc = accuracy_score(y_pred_test, y_test).round(3)\n",
        "# Print the results\n",
        "print(f'Training accuracy : {train_acc}.')\n",
        "print(f'Testing accuracy  : {test_acc}.')"
      ],
      "metadata": {
        "colab": {
          "base_uri": "https://localhost:8080/"
        },
        "id": "4hvKNY7TyxTx",
        "outputId": "0d07dd99-087c-4c36-c45d-f67511cdcbfb"
      },
      "execution_count": 42,
      "outputs": [
        {
          "output_type": "stream",
          "name": "stdout",
          "text": [
            "Training accuracy : 0.992.\n",
            "Testing accuracy  : 0.775.\n"
          ]
        }
      ]
    },
    {
      "cell_type": "markdown",
      "source": [
        "# **K-Means:**"
      ],
      "metadata": {
        "id": "tvSD6c6TCs3_"
      }
    },
    {
      "cell_type": "markdown",
      "source": [
        "> ## <u>SimpleImputer"
      ],
      "metadata": {
        "id": "AvXh9ggr53c-"
      }
    },
    {
      "cell_type": "markdown",
      "source": [
        "> ## <u>Scale the Data"
      ],
      "metadata": {
        "id": "AQuIbi4895gO"
      }
    },
    {
      "cell_type": "code",
      "execution_count": null,
      "metadata": {
        "id": "hfl-9zdeGtwA"
      },
      "outputs": [],
      "source": [
        "# # define the columns you want to use\n",
        "# x = df[['CREDIT_SCORE', 'ANNUAL_MILEAGE']]\n",
        "# x.head()"
      ]
    }
  ]
}